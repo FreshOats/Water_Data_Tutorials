{
    "metadata": {
        "kernelspec": {
            "name": "SQL",
            "display_name": "SQL",
            "language": "sql"
        },
        "language_info": {
            "name": "sql",
            "version": ""
        }
    },
    "nbformat_minor": 2,
    "nbformat": 4,
    "cells": [
        {
            "cell_type": "markdown",
            "source": [
                "This is an introduction and tutorial to the SQL Clause WITH, also known as a Common Table Expression or CTE. If you have a good handle of writing SQL queries with complex joins and are at least familiar with writing subqueries, you should find this helpful!\n",
                "\n",
                "To me, there is nothing more annoying (and by this I mean mildly infuriating and embarrassing) than when I return to my own code and can’t remember why I wrote what I did and what I was trying to accomplish. SQL code can be very straightforward as a language, but introducing subqueries and nested subqueries quickly obfuscates the intention. \n",
                "\n",
                "The WITH clause allows us to introduce a query or set of queries that even presents deeply nested subqueries to be easily followed and applied to the parent query. The WITH clause introduces what most people refer to as Common Table Expressions, or CTEs. \n",
                "\n",
                "I will be using the California water quality standards and goals, last update in January, 2023. The original .pdf and the cleaned .csv file are available on GitHub: [https://github.com/FreshOats/Water\\_Data\\_Tutorials](https://github.com/FreshOats/Water_Data_Tutorials). \n",
                "\n",
                "The file I will be using for the database is the state\\_regulations.csv  \n",
                "The file for MS SQL Server users to create and populate a database is the state\\_regulations\\_database.sql file. \n",
                "\n",
                "Once you have established the database, let’s run a quick query:"
            ],
            "metadata": {
                "azdata_cell_guid": "bfda5d9b-87a5-4255-a2ed-3365fbc17f1c"
            },
            "attachments": {}
        },
        {
            "cell_type": "code",
            "source": [
                "SELECT * \r\n",
                "FROM dbo.state_regulations"
            ],
            "metadata": {
                "azdata_cell_guid": "ddafb2f4-6374-469a-9c86-3cd11d0a29f1",
                "language": "sql"
            },
            "outputs": [
                {
                    "output_type": "display_data",
                    "data": {
                        "text/html": "(91 rows affected)"
                    },
                    "metadata": {}
                },
                {
                    "output_type": "display_data",
                    "data": {
                        "text/html": "Total execution time: 00:00:00.012"
                    },
                    "metadata": {}
                },
                {
                    "output_type": "execute_result",
                    "metadata": {},
                    "execution_count": 1,
                    "data": {
                        "application/vnd.dataresource+json": {
                            "schema": {
                                "fields": [
                                    {
                                        "name": "contaminant"
                                    },
                                    {
                                        "name": "state_max_level"
                                    },
                                    {
                                        "name": "state_detection_limit"
                                    },
                                    {
                                        "name": "state_health_goal"
                                    },
                                    {
                                        "name": "state_health_date"
                                    },
                                    {
                                        "name": "federal_max_level"
                                    },
                                    {
                                        "name": "federal_max_level_goal"
                                    },
                                    {
                                        "name": "units"
                                    }
                                ]
                            },
                            "data": [
                                {
                                    "0": "Aluminum",
                                    "1": "1",
                                    "2": "0.05",
                                    "3": "0.6",
                                    "4": "2001",
                                    "5": "NULL",
                                    "6": "NULL",
                                    "7": "mg/L"
                                },
                                {
                                    "0": "Antimony",
                                    "1": "0.006",
                                    "2": "0.006",
                                    "3": "0.001",
                                    "4": "2016",
                                    "5": "0.006",
                                    "6": "0.006",
                                    "7": "mg/L"
                                },
                                {
                                    "0": "Arsenic",
                                    "1": "0.01",
                                    "2": "0.002",
                                    "3": "4E-06",
                                    "4": "2004",
                                    "5": "0.01",
                                    "6": "0",
                                    "7": "mg/L"
                                },
                                {
                                    "0": "Asbestos",
                                    "1": "7",
                                    "2": "0.2",
                                    "3": "7",
                                    "4": "2003",
                                    "5": "7",
                                    "6": "7",
                                    "7": "MFL"
                                },
                                {
                                    "0": "Barium",
                                    "1": "1",
                                    "2": "0.1",
                                    "3": "2",
                                    "4": "2003",
                                    "5": "2",
                                    "6": "2",
                                    "7": "mg/L"
                                },
                                {
                                    "0": "Beryllium",
                                    "1": "0.004",
                                    "2": "0.001",
                                    "3": "0.001",
                                    "4": "2003",
                                    "5": "0.004",
                                    "6": "0.004",
                                    "7": "mg/L"
                                },
                                {
                                    "0": "Cadmium",
                                    "1": "0.005",
                                    "2": "0.001",
                                    "3": "4E-05",
                                    "4": "2006",
                                    "5": "0.005",
                                    "6": "0.005",
                                    "7": "mg/L"
                                },
                                {
                                    "0": "Chromium, Total",
                                    "1": "0.05",
                                    "2": "0.01",
                                    "3": "NULL",
                                    "4": "1999",
                                    "5": "0.1",
                                    "6": "0.1",
                                    "7": "mg/L"
                                },
                                {
                                    "0": "Cyanide",
                                    "1": "0.15",
                                    "2": "0.1",
                                    "3": "0.15",
                                    "4": "1997",
                                    "5": "0.2",
                                    "6": "0.2",
                                    "7": "mg/L"
                                },
                                {
                                    "0": "Fluoride",
                                    "1": "2",
                                    "2": "0.1",
                                    "3": "1",
                                    "4": "1997",
                                    "5": "4",
                                    "6": "4",
                                    "7": "mg/L"
                                },
                                {
                                    "0": "Mercury",
                                    "1": "0.002",
                                    "2": "0.001",
                                    "3": "0.0012",
                                    "4": "2005",
                                    "5": "0.002",
                                    "6": "0.002",
                                    "7": "mg/L"
                                },
                                {
                                    "0": "Nickel",
                                    "1": "0.1",
                                    "2": "0.01",
                                    "3": "0.012",
                                    "4": "2001",
                                    "5": "NULL",
                                    "6": "NULL",
                                    "7": "mg/L"
                                },
                                {
                                    "0": "Nitrate",
                                    "1": "10",
                                    "2": "0.4",
                                    "3": "45",
                                    "4": "2018",
                                    "5": "10",
                                    "6": "10",
                                    "7": "10 as N mg/L"
                                },
                                {
                                    "0": "Nitrite",
                                    "1": "1",
                                    "2": "0.4",
                                    "3": "1",
                                    "4": "2018",
                                    "5": "1",
                                    "6": "1",
                                    "7": "1 as N mg/L"
                                },
                                {
                                    "0": "Nitrate + Nitrite",
                                    "1": "10",
                                    "2": "NULL",
                                    "3": "10",
                                    "4": "2018",
                                    "5": "NULL",
                                    "6": "NULL",
                                    "7": "10 as N mg/L"
                                },
                                {
                                    "0": "Perchlorate",
                                    "1": "0.006",
                                    "2": "0.002",
                                    "3": "0.001",
                                    "4": "2015",
                                    "5": "NULL",
                                    "6": "NULL",
                                    "7": "mg/L"
                                },
                                {
                                    "0": "Selenium",
                                    "1": "0.05",
                                    "2": "0.005",
                                    "3": "0.03",
                                    "4": "2010",
                                    "5": "0.05",
                                    "6": "0.05",
                                    "7": "mg/L"
                                },
                                {
                                    "0": "Thallium",
                                    "1": "0.002",
                                    "2": "0.001",
                                    "3": "0.0001",
                                    "4": "2004",
                                    "5": "0.002",
                                    "6": "0.0005",
                                    "7": "mg/L"
                                },
                                {
                                    "0": "Copper",
                                    "1": "1.3",
                                    "2": "0.05",
                                    "3": "0.3",
                                    "4": "2008",
                                    "5": "1.3",
                                    "6": "1.3",
                                    "7": "mg/L"
                                },
                                {
                                    "0": "Lead",
                                    "1": "0.015",
                                    "2": "0.005",
                                    "3": "0.0002",
                                    "4": "2009",
                                    "5": "0.015",
                                    "6": "0",
                                    "7": "mg/L"
                                },
                                {
                                    "0": "Gross Alpha Particle",
                                    "1": "15",
                                    "2": "3",
                                    "3": "NULL",
                                    "4": "NULL",
                                    "5": "15",
                                    "6": "0",
                                    "7": "pCi/L"
                                },
                                {
                                    "0": "Gross Beta Particle",
                                    "1": "4",
                                    "2": "4",
                                    "3": "NULL",
                                    "4": "NULL",
                                    "5": "4",
                                    "6": "0",
                                    "7": "pCi/L"
                                },
                                {
                                    "0": "Radium-226 + Radium-228",
                                    "1": "5",
                                    "2": "NULL",
                                    "3": "NULL",
                                    "4": "NULL",
                                    "5": "5",
                                    "6": "0",
                                    "7": "pCi/L"
                                },
                                {
                                    "0": "Strontium-90",
                                    "1": "8",
                                    "2": "2",
                                    "3": "0.35",
                                    "4": "2006",
                                    "5": "NULL",
                                    "6": "NULL",
                                    "7": "pCi/L"
                                },
                                {
                                    "0": "Tritium",
                                    "1": "20000",
                                    "2": "1000",
                                    "3": "400",
                                    "4": "2006",
                                    "5": "NULL",
                                    "6": "NULL",
                                    "7": "pCi/L"
                                },
                                {
                                    "0": "Uranium",
                                    "1": "20",
                                    "2": "1",
                                    "3": "0.43",
                                    "4": "2001",
                                    "5": "30",
                                    "6": "0",
                                    "7": "pCi/L (ug/L for Federal_MCL)"
                                },
                                {
                                    "0": "Benzene",
                                    "1": "0.001",
                                    "2": "0.0005",
                                    "3": "0.00015",
                                    "4": "2001",
                                    "5": "0.005",
                                    "6": "0",
                                    "7": "mg/L"
                                },
                                {
                                    "0": "Carbon tetrachloride",
                                    "1": "0.0005",
                                    "2": "0.0005",
                                    "3": "0.0001",
                                    "4": "2000",
                                    "5": "0.005",
                                    "6": "0",
                                    "7": "mg/L"
                                },
                                {
                                    "0": "1,2-Dichlorobenzene",
                                    "1": "0.6",
                                    "2": "0.0005",
                                    "3": "0.6",
                                    "4": "2009",
                                    "5": "0.6",
                                    "6": "0.6",
                                    "7": "mg/L"
                                },
                                {
                                    "0": "1,4-Dichlorobenzene(p-DCB)",
                                    "1": "0.005",
                                    "2": "0.0005",
                                    "3": "0.006",
                                    "4": "1997",
                                    "5": "0.075",
                                    "6": "0.075",
                                    "7": "mg/L"
                                },
                                {
                                    "0": "1,1-Dichloroethane (1,1-DCA)",
                                    "1": "0.005",
                                    "2": "0.0005",
                                    "3": "0.003",
                                    "4": "2003",
                                    "5": "NULL",
                                    "6": "NULL",
                                    "7": "mg/L"
                                },
                                {
                                    "0": "1,2-Dichloroethane (1,2-DCA)",
                                    "1": "0.0005",
                                    "2": "0.0005",
                                    "3": "0.0004",
                                    "4": "2005",
                                    "5": "0.005",
                                    "6": "0",
                                    "7": "mg/L"
                                },
                                {
                                    "0": "1,1-Dichloroethylene (1,1-DCE)",
                                    "1": "0.006",
                                    "2": "0.0005",
                                    "3": "0.01",
                                    "4": "1999",
                                    "5": "0.007",
                                    "6": "0.007",
                                    "7": "mg/L"
                                },
                                {
                                    "0": "cis-1,2-Dichloroethylene",
                                    "1": "0.006",
                                    "2": "0.0005",
                                    "3": "0.013",
                                    "4": "2018",
                                    "5": "0.07",
                                    "6": "0.07",
                                    "7": "mg/L"
                                },
                                {
                                    "0": "trans-1,2-Dichloroethylene",
                                    "1": "0.01",
                                    "2": "0.0005",
                                    "3": "0.05",
                                    "4": "2018",
                                    "5": "0.1",
                                    "6": "0.1",
                                    "7": "mg/L"
                                },
                                {
                                    "0": "Dichloromethane (Methylene chloride)",
                                    "1": "0.005",
                                    "2": "0.0005",
                                    "3": "0.004",
                                    "4": "2000",
                                    "5": "0.005",
                                    "6": "0",
                                    "7": "mg/L"
                                },
                                {
                                    "0": "1,2-Dichloropropane",
                                    "1": "0.005",
                                    "2": "0.0005",
                                    "3": "0.0005",
                                    "4": "1999",
                                    "5": "0.005",
                                    "6": "0",
                                    "7": "mg/L"
                                },
                                {
                                    "0": "1,3-Dichloropropene",
                                    "1": "0.0005",
                                    "2": "0.0005",
                                    "3": "0.0002",
                                    "4": "2006",
                                    "5": "NULL",
                                    "6": "NULL",
                                    "7": "mg/L"
                                },
                                {
                                    "0": "Ethylbenzene",
                                    "1": "0.3",
                                    "2": "0.0005",
                                    "3": "0.3",
                                    "4": "1997",
                                    "5": "0.7",
                                    "6": "0.7",
                                    "7": "mg/L"
                                },
                                {
                                    "0": "Methyl tertiary butyl ether (MTBE)",
                                    "1": "0.013",
                                    "2": "0.003",
                                    "3": "0.013",
                                    "4": "1999",
                                    "5": "NULL",
                                    "6": "NULL",
                                    "7": "mg/L"
                                },
                                {
                                    "0": "Monochlorobenzene",
                                    "1": "0.07",
                                    "2": "0.0005",
                                    "3": "0.07",
                                    "4": "2014",
                                    "5": "0.1",
                                    "6": "0.1",
                                    "7": "mg/L"
                                },
                                {
                                    "0": "Styrene",
                                    "1": "0.1",
                                    "2": "0.0005",
                                    "3": "0.0005",
                                    "4": "2010",
                                    "5": "0.1",
                                    "6": "0.1",
                                    "7": "mg/L"
                                },
                                {
                                    "0": "1,1,2,2-Tetrachloroethane",
                                    "1": "0.001",
                                    "2": "0.0005",
                                    "3": "0.0001",
                                    "4": "2003",
                                    "5": "0.1",
                                    "6": "0.1",
                                    "7": "mg/L"
                                },
                                {
                                    "0": "Tetrachloroethylene (PCE)",
                                    "1": "0.005",
                                    "2": "0.0005",
                                    "3": "6E-05",
                                    "4": "2001",
                                    "5": "0.005",
                                    "6": "0",
                                    "7": "mg/L"
                                },
                                {
                                    "0": "Toluene",
                                    "1": "0.15",
                                    "2": "0.0005",
                                    "3": "0.15",
                                    "4": "1999",
                                    "5": "1",
                                    "6": "1",
                                    "7": "mg/L"
                                },
                                {
                                    "0": "1,2,4-Trichlorobenzene",
                                    "1": "0.005",
                                    "2": "0.0005",
                                    "3": "0.005",
                                    "4": "1999",
                                    "5": "0.07",
                                    "6": "0.07",
                                    "7": "mg/L"
                                },
                                {
                                    "0": "1,1,1-Trichloroethane (1,1,1-TCA)",
                                    "1": "0.2",
                                    "2": "0.0005",
                                    "3": "1",
                                    "4": "2006",
                                    "5": "0.2",
                                    "6": "0.2",
                                    "7": "mg/L"
                                },
                                {
                                    "0": "1,1,2-Trichloroethane (1,1,2-TCA)",
                                    "1": "0.005",
                                    "2": "0.0005",
                                    "3": "0.0003",
                                    "4": "2006",
                                    "5": "0.005",
                                    "6": "0.003",
                                    "7": "mg/L"
                                },
                                {
                                    "0": "Trichloroethylene (TCE)",
                                    "1": "0.005",
                                    "2": "0.0005",
                                    "3": "0.0017",
                                    "4": "2009",
                                    "5": "0.005",
                                    "6": "0",
                                    "7": "mg/L"
                                },
                                {
                                    "0": "Trichlorofluoromethane (Freon 11)",
                                    "1": "0.15",
                                    "2": "0.005",
                                    "3": "1.3",
                                    "4": "2014",
                                    "5": "NULL",
                                    "6": "NULL",
                                    "7": "mg/L"
                                },
                                {
                                    "0": "1,1,2-Trichloro-1,2,2-Trifluoroethane (Freon 113)",
                                    "1": "1.2",
                                    "2": "0.01",
                                    "3": "4",
                                    "4": "2011",
                                    "5": "NULL",
                                    "6": "NULL",
                                    "7": "mg/L"
                                },
                                {
                                    "0": "Vinyl chloride",
                                    "1": "0.0005",
                                    "2": "0.0005",
                                    "3": "5E-05",
                                    "4": "2000",
                                    "5": "0.002",
                                    "6": "0",
                                    "7": "mg/L"
                                },
                                {
                                    "0": "Xylenes",
                                    "1": "1.75",
                                    "2": "0.0005",
                                    "3": "1.8",
                                    "4": "1997",
                                    "5": "10",
                                    "6": "10",
                                    "7": "mg/L"
                                },
                                {
                                    "0": "Alachlor",
                                    "1": "0.002",
                                    "2": "0.001",
                                    "3": "0.004",
                                    "4": "1997",
                                    "5": "0.002",
                                    "6": "0",
                                    "7": "mg/L"
                                },
                                {
                                    "0": "Atrazine",
                                    "1": "0.001",
                                    "2": "0.0005",
                                    "3": "0.00015",
                                    "4": "1999",
                                    "5": "0.003",
                                    "6": "0.003",
                                    "7": "mg/L"
                                },
                                {
                                    "0": "Bentazon",
                                    "1": "0.018",
                                    "2": "0.002",
                                    "3": "0.2",
                                    "4": "2009",
                                    "5": "NULL",
                                    "6": "NULL",
                                    "7": "mg/L"
                                },
                                {
                                    "0": "Benzo(a)pyrene",
                                    "1": "0.0002",
                                    "2": "0.0001",
                                    "3": "7E-06",
                                    "4": "2010",
                                    "5": "0.0002",
                                    "6": "0",
                                    "7": "mg/L"
                                },
                                {
                                    "0": "Carbofuran",
                                    "1": "0.018",
                                    "2": "0.005",
                                    "3": "0.0007",
                                    "4": "2016",
                                    "5": "0.04",
                                    "6": "0.04",
                                    "7": "mg/L"
                                },
                                {
                                    "0": "Chlordane",
                                    "1": "0.0001",
                                    "2": "0.0001",
                                    "3": "3E-05",
                                    "4": "2006",
                                    "5": "0.002",
                                    "6": "0",
                                    "7": "mg/L"
                                },
                                {
                                    "0": "Dalapon",
                                    "1": "0.2",
                                    "2": "0.01",
                                    "3": "0.79",
                                    "4": "2009",
                                    "5": "0.2",
                                    "6": "0.2",
                                    "7": "mg/L"
                                },
                                {
                                    "0": "1,2-Dibromo-3-chloropropane (DBCP)",
                                    "1": "0.0002",
                                    "2": "1E-05",
                                    "3": "3E-06",
                                    "4": "2020",
                                    "5": "0.0002",
                                    "6": "0",
                                    "7": "mg/L"
                                },
                                {
                                    "0": "2,4-Dichlorophenoxyacetic acid (2,4-D)",
                                    "1": "0.07",
                                    "2": "0.01",
                                    "3": "0.02",
                                    "4": "2009",
                                    "5": "0.07",
                                    "6": "0.07",
                                    "7": "mg/L"
                                },
                                {
                                    "0": "Di(2-ethylhexyl)adipate",
                                    "1": "0.4",
                                    "2": "0.005",
                                    "3": "0.2",
                                    "4": "2003",
                                    "5": "0.4",
                                    "6": "0.4",
                                    "7": "mg/L"
                                },
                                {
                                    "0": "Di(2-ethylhexyl)phthalate (DEHP)",
                                    "1": "0.004",
                                    "2": "0.003",
                                    "3": "0.012",
                                    "4": "1997",
                                    "5": "0.006",
                                    "6": "0",
                                    "7": "mg/L"
                                },
                                {
                                    "0": "Dinoseb",
                                    "1": "0.007",
                                    "2": "0.002",
                                    "3": "0.014",
                                    "4": "2010",
                                    "5": "0.007",
                                    "6": "0.007",
                                    "7": "mg/L"
                                },
                                {
                                    "0": "Diquat",
                                    "1": "0.02",
                                    "2": "0.004",
                                    "3": "0.006",
                                    "4": "2016",
                                    "5": "0.02",
                                    "6": "0.02",
                                    "7": "mg/L"
                                },
                                {
                                    "0": "Endothal",
                                    "1": "0.1",
                                    "2": "0.045",
                                    "3": "0.094",
                                    "4": "2014",
                                    "5": "0.1",
                                    "6": "0.1",
                                    "7": "mg/L"
                                },
                                {
                                    "0": "Endrin",
                                    "1": "0.002",
                                    "2": "0.0001",
                                    "3": "0.0003",
                                    "4": "2016",
                                    "5": "0.002",
                                    "6": "0.002",
                                    "7": "mg/L"
                                },
                                {
                                    "0": "Ethylene dibromide (EDB)",
                                    "1": "5E-05",
                                    "2": "2E-05",
                                    "3": "1E-05",
                                    "4": "2003",
                                    "5": "5E-05",
                                    "6": "0",
                                    "7": "mg/L"
                                },
                                {
                                    "0": "Glyphosate",
                                    "1": "0.7",
                                    "2": "0.025",
                                    "3": "0.9",
                                    "4": "2007",
                                    "5": "0.7",
                                    "6": "0.7",
                                    "7": "mg/L"
                                },
                                {
                                    "0": "Heptachlor",
                                    "1": "1E-05",
                                    "2": "1E-05",
                                    "3": "8E-06",
                                    "4": "1999",
                                    "5": "0.0004",
                                    "6": "0",
                                    "7": "mg/L"
                                },
                                {
                                    "0": "Heptachlor epoxide",
                                    "1": "1E-05",
                                    "2": "1E-05",
                                    "3": "6E-06",
                                    "4": "1999",
                                    "5": "0.0002",
                                    "6": "0",
                                    "7": "mg/L"
                                },
                                {
                                    "0": "Hexachlorobenzene",
                                    "1": "0.001",
                                    "2": "0.0005",
                                    "3": "3E-05",
                                    "4": "2003",
                                    "5": "0.001",
                                    "6": "0",
                                    "7": "mg/L"
                                },
                                {
                                    "0": "Hexachlorocyclopentadiene",
                                    "1": "0.05",
                                    "2": "0.001",
                                    "3": "0.002",
                                    "4": "2014",
                                    "5": "0.05",
                                    "6": "0.05",
                                    "7": "mg/L"
                                },
                                {
                                    "0": "Lindane",
                                    "1": "0.0002",
                                    "2": "0.0002",
                                    "3": "3.2E-05",
                                    "4": "2005",
                                    "5": "0.0002",
                                    "6": "0.0002",
                                    "7": "mg/L"
                                },
                                {
                                    "0": "Methoxychlor",
                                    "1": "0.03",
                                    "2": "0.01",
                                    "3": "9E-05",
                                    "4": "2010",
                                    "5": "0.04",
                                    "6": "0.04",
                                    "7": "mg/L"
                                },
                                {
                                    "0": "Molinate",
                                    "1": "0.02",
                                    "2": "0.002",
                                    "3": "0.001",
                                    "4": "2008",
                                    "5": "NULL",
                                    "6": "NULL",
                                    "7": "mg/L"
                                },
                                {
                                    "0": "Oxamyl",
                                    "1": "0.05",
                                    "2": "0.02",
                                    "3": "0.026",
                                    "4": "2009",
                                    "5": "0.2",
                                    "6": "0.2",
                                    "7": "mg/L"
                                },
                                {
                                    "0": "Pentachlorophenol",
                                    "1": "0.001",
                                    "2": "0.0002",
                                    "3": "0.0003",
                                    "4": "2009",
                                    "5": "0.001",
                                    "6": "0",
                                    "7": "mg/L"
                                },
                                {
                                    "0": "Picloram",
                                    "1": "0.5",
                                    "2": "0.001",
                                    "3": "0.166",
                                    "4": "2016",
                                    "5": "0.5",
                                    "6": "0.5",
                                    "7": "mg/L"
                                },
                                {
                                    "0": "Polychlorinated biphenyls (PCBs)",
                                    "1": "0.0005",
                                    "2": "0.0005",
                                    "3": "9E-05",
                                    "4": "2007",
                                    "5": "0.0005",
                                    "6": "0",
                                    "7": "mg/L"
                                },
                                {
                                    "0": "Simazine",
                                    "1": "0.004",
                                    "2": "0.001",
                                    "3": "0.004",
                                    "4": "2001",
                                    "5": "0.004",
                                    "6": "0.004",
                                    "7": "mg/L"
                                },
                                {
                                    "0": "Thiobencarb",
                                    "1": "0.07",
                                    "2": "0.001",
                                    "3": "0.042",
                                    "4": "2016",
                                    "5": "NULL",
                                    "6": "NULL",
                                    "7": "mg/L"
                                },
                                {
                                    "0": "Toxaphene",
                                    "1": "0.003",
                                    "2": "0.001",
                                    "3": "3E-05",
                                    "4": "2003",
                                    "5": "0.003",
                                    "6": "0",
                                    "7": "mg/L"
                                },
                                {
                                    "0": "1,2,3-Trichloropropane",
                                    "1": "5E-06",
                                    "2": "5E-06",
                                    "3": "7E-07",
                                    "4": "2009",
                                    "5": "NULL",
                                    "6": "NULL",
                                    "7": "mg/L"
                                },
                                {
                                    "0": "2,3,7,8-TCDD (dioxin)",
                                    "1": "3E-08",
                                    "2": "5E-09",
                                    "3": "5E-11",
                                    "4": "2010",
                                    "5": "3E-08",
                                    "6": "0",
                                    "7": "mg/L"
                                },
                                {
                                    "0": "2,4,5-TP (Silvex)",
                                    "1": "0.05",
                                    "2": "0.001",
                                    "3": "0.003",
                                    "4": "2014",
                                    "5": "0.05",
                                    "6": "0.05",
                                    "7": "mg/L"
                                },
                                {
                                    "0": "Total Trihalomethanes",
                                    "1": "0.08",
                                    "2": "NULL",
                                    "3": "NULL",
                                    "4": "NULL",
                                    "5": "0.08",
                                    "6": "NULL",
                                    "7": "mg/L"
                                },
                                {
                                    "0": "Haloacetic Acids (five) (HAA5)",
                                    "1": "0.06",
                                    "2": "NULL",
                                    "3": "NULL",
                                    "4": "NULL",
                                    "5": "0.06",
                                    "6": "NULL",
                                    "7": "mg/L"
                                },
                                {
                                    "0": "Bromate",
                                    "1": "0.01",
                                    "2": "0.005",
                                    "3": "0.0001",
                                    "4": "2009",
                                    "5": "0.01",
                                    "6": "0",
                                    "7": "mg/L"
                                },
                                {
                                    "0": "Chlorite",
                                    "1": "1",
                                    "2": "0.02",
                                    "3": "0.05",
                                    "4": "2009",
                                    "5": "1",
                                    "6": "0.8",
                                    "7": "mg/L"
                                }
                            ]
                        },
                        "text/html": [
                            "<table>",
                            "<tr><th>contaminant</th><th>state_max_level</th><th>state_detection_limit</th><th>state_health_goal</th><th>state_health_date</th><th>federal_max_level</th><th>federal_max_level_goal</th><th>units</th></tr>",
                            "<tr><td>Aluminum</td><td>1</td><td>0.05</td><td>0.6</td><td>2001</td><td>NULL</td><td>NULL</td><td>mg/L</td></tr>",
                            "<tr><td>Antimony</td><td>0.006</td><td>0.006</td><td>0.001</td><td>2016</td><td>0.006</td><td>0.006</td><td>mg/L</td></tr>",
                            "<tr><td>Arsenic</td><td>0.01</td><td>0.002</td><td>4E-06</td><td>2004</td><td>0.01</td><td>0</td><td>mg/L</td></tr>",
                            "<tr><td>Asbestos</td><td>7</td><td>0.2</td><td>7</td><td>2003</td><td>7</td><td>7</td><td>MFL</td></tr>",
                            "<tr><td>Barium</td><td>1</td><td>0.1</td><td>2</td><td>2003</td><td>2</td><td>2</td><td>mg/L</td></tr>",
                            "<tr><td>Beryllium</td><td>0.004</td><td>0.001</td><td>0.001</td><td>2003</td><td>0.004</td><td>0.004</td><td>mg/L</td></tr>",
                            "<tr><td>Cadmium</td><td>0.005</td><td>0.001</td><td>4E-05</td><td>2006</td><td>0.005</td><td>0.005</td><td>mg/L</td></tr>",
                            "<tr><td>Chromium, Total</td><td>0.05</td><td>0.01</td><td>NULL</td><td>1999</td><td>0.1</td><td>0.1</td><td>mg/L</td></tr>",
                            "<tr><td>Cyanide</td><td>0.15</td><td>0.1</td><td>0.15</td><td>1997</td><td>0.2</td><td>0.2</td><td>mg/L</td></tr>",
                            "<tr><td>Fluoride</td><td>2</td><td>0.1</td><td>1</td><td>1997</td><td>4</td><td>4</td><td>mg/L</td></tr>",
                            "<tr><td>Mercury</td><td>0.002</td><td>0.001</td><td>0.0012</td><td>2005</td><td>0.002</td><td>0.002</td><td>mg/L</td></tr>",
                            "<tr><td>Nickel</td><td>0.1</td><td>0.01</td><td>0.012</td><td>2001</td><td>NULL</td><td>NULL</td><td>mg/L</td></tr>",
                            "<tr><td>Nitrate</td><td>10</td><td>0.4</td><td>45</td><td>2018</td><td>10</td><td>10</td><td>10 as N mg/L</td></tr>",
                            "<tr><td>Nitrite</td><td>1</td><td>0.4</td><td>1</td><td>2018</td><td>1</td><td>1</td><td>1 as N mg/L</td></tr>",
                            "<tr><td>Nitrate + Nitrite</td><td>10</td><td>NULL</td><td>10</td><td>2018</td><td>NULL</td><td>NULL</td><td>10 as N mg/L</td></tr>",
                            "<tr><td>Perchlorate</td><td>0.006</td><td>0.002</td><td>0.001</td><td>2015</td><td>NULL</td><td>NULL</td><td>mg/L</td></tr>",
                            "<tr><td>Selenium</td><td>0.05</td><td>0.005</td><td>0.03</td><td>2010</td><td>0.05</td><td>0.05</td><td>mg/L</td></tr>",
                            "<tr><td>Thallium</td><td>0.002</td><td>0.001</td><td>0.0001</td><td>2004</td><td>0.002</td><td>0.0005</td><td>mg/L</td></tr>",
                            "<tr><td>Copper</td><td>1.3</td><td>0.05</td><td>0.3</td><td>2008</td><td>1.3</td><td>1.3</td><td>mg/L</td></tr>",
                            "<tr><td>Lead</td><td>0.015</td><td>0.005</td><td>0.0002</td><td>2009</td><td>0.015</td><td>0</td><td>mg/L</td></tr>",
                            "<tr><td>Gross Alpha Particle</td><td>15</td><td>3</td><td>NULL</td><td>NULL</td><td>15</td><td>0</td><td>pCi/L</td></tr>",
                            "<tr><td>Gross Beta Particle</td><td>4</td><td>4</td><td>NULL</td><td>NULL</td><td>4</td><td>0</td><td>pCi/L</td></tr>",
                            "<tr><td>Radium-226 + Radium-228</td><td>5</td><td>NULL</td><td>NULL</td><td>NULL</td><td>5</td><td>0</td><td>pCi/L</td></tr>",
                            "<tr><td>Strontium-90</td><td>8</td><td>2</td><td>0.35</td><td>2006</td><td>NULL</td><td>NULL</td><td>pCi/L</td></tr>",
                            "<tr><td>Tritium</td><td>20000</td><td>1000</td><td>400</td><td>2006</td><td>NULL</td><td>NULL</td><td>pCi/L</td></tr>",
                            "<tr><td>Uranium</td><td>20</td><td>1</td><td>0.43</td><td>2001</td><td>30</td><td>0</td><td>pCi/L (ug/L for Federal_MCL)</td></tr>",
                            "<tr><td>Benzene</td><td>0.001</td><td>0.0005</td><td>0.00015</td><td>2001</td><td>0.005</td><td>0</td><td>mg/L</td></tr>",
                            "<tr><td>Carbon tetrachloride</td><td>0.0005</td><td>0.0005</td><td>0.0001</td><td>2000</td><td>0.005</td><td>0</td><td>mg/L</td></tr>",
                            "<tr><td>1,2-Dichlorobenzene</td><td>0.6</td><td>0.0005</td><td>0.6</td><td>2009</td><td>0.6</td><td>0.6</td><td>mg/L</td></tr>",
                            "<tr><td>1,4-Dichlorobenzene(p-DCB)</td><td>0.005</td><td>0.0005</td><td>0.006</td><td>1997</td><td>0.075</td><td>0.075</td><td>mg/L</td></tr>",
                            "<tr><td>1,1-Dichloroethane (1,1-DCA)</td><td>0.005</td><td>0.0005</td><td>0.003</td><td>2003</td><td>NULL</td><td>NULL</td><td>mg/L</td></tr>",
                            "<tr><td>1,2-Dichloroethane (1,2-DCA)</td><td>0.0005</td><td>0.0005</td><td>0.0004</td><td>2005</td><td>0.005</td><td>0</td><td>mg/L</td></tr>",
                            "<tr><td>1,1-Dichloroethylene (1,1-DCE)</td><td>0.006</td><td>0.0005</td><td>0.01</td><td>1999</td><td>0.007</td><td>0.007</td><td>mg/L</td></tr>",
                            "<tr><td>cis-1,2-Dichloroethylene</td><td>0.006</td><td>0.0005</td><td>0.013</td><td>2018</td><td>0.07</td><td>0.07</td><td>mg/L</td></tr>",
                            "<tr><td>trans-1,2-Dichloroethylene</td><td>0.01</td><td>0.0005</td><td>0.05</td><td>2018</td><td>0.1</td><td>0.1</td><td>mg/L</td></tr>",
                            "<tr><td>Dichloromethane (Methylene chloride)</td><td>0.005</td><td>0.0005</td><td>0.004</td><td>2000</td><td>0.005</td><td>0</td><td>mg/L</td></tr>",
                            "<tr><td>1,2-Dichloropropane</td><td>0.005</td><td>0.0005</td><td>0.0005</td><td>1999</td><td>0.005</td><td>0</td><td>mg/L</td></tr>",
                            "<tr><td>1,3-Dichloropropene</td><td>0.0005</td><td>0.0005</td><td>0.0002</td><td>2006</td><td>NULL</td><td>NULL</td><td>mg/L</td></tr>",
                            "<tr><td>Ethylbenzene</td><td>0.3</td><td>0.0005</td><td>0.3</td><td>1997</td><td>0.7</td><td>0.7</td><td>mg/L</td></tr>",
                            "<tr><td>Methyl tertiary butyl ether (MTBE)</td><td>0.013</td><td>0.003</td><td>0.013</td><td>1999</td><td>NULL</td><td>NULL</td><td>mg/L</td></tr>",
                            "<tr><td>Monochlorobenzene</td><td>0.07</td><td>0.0005</td><td>0.07</td><td>2014</td><td>0.1</td><td>0.1</td><td>mg/L</td></tr>",
                            "<tr><td>Styrene</td><td>0.1</td><td>0.0005</td><td>0.0005</td><td>2010</td><td>0.1</td><td>0.1</td><td>mg/L</td></tr>",
                            "<tr><td>1,1,2,2-Tetrachloroethane</td><td>0.001</td><td>0.0005</td><td>0.0001</td><td>2003</td><td>0.1</td><td>0.1</td><td>mg/L</td></tr>",
                            "<tr><td>Tetrachloroethylene (PCE)</td><td>0.005</td><td>0.0005</td><td>6E-05</td><td>2001</td><td>0.005</td><td>0</td><td>mg/L</td></tr>",
                            "<tr><td>Toluene</td><td>0.15</td><td>0.0005</td><td>0.15</td><td>1999</td><td>1</td><td>1</td><td>mg/L</td></tr>",
                            "<tr><td>1,2,4-Trichlorobenzene</td><td>0.005</td><td>0.0005</td><td>0.005</td><td>1999</td><td>0.07</td><td>0.07</td><td>mg/L</td></tr>",
                            "<tr><td>1,1,1-Trichloroethane (1,1,1-TCA)</td><td>0.2</td><td>0.0005</td><td>1</td><td>2006</td><td>0.2</td><td>0.2</td><td>mg/L</td></tr>",
                            "<tr><td>1,1,2-Trichloroethane (1,1,2-TCA)</td><td>0.005</td><td>0.0005</td><td>0.0003</td><td>2006</td><td>0.005</td><td>0.003</td><td>mg/L</td></tr>",
                            "<tr><td>Trichloroethylene (TCE)</td><td>0.005</td><td>0.0005</td><td>0.0017</td><td>2009</td><td>0.005</td><td>0</td><td>mg/L</td></tr>",
                            "<tr><td>Trichlorofluoromethane (Freon 11)</td><td>0.15</td><td>0.005</td><td>1.3</td><td>2014</td><td>NULL</td><td>NULL</td><td>mg/L</td></tr>",
                            "<tr><td>1,1,2-Trichloro-1,2,2-Trifluoroethane (Freon 113)</td><td>1.2</td><td>0.01</td><td>4</td><td>2011</td><td>NULL</td><td>NULL</td><td>mg/L</td></tr>",
                            "<tr><td>Vinyl chloride</td><td>0.0005</td><td>0.0005</td><td>5E-05</td><td>2000</td><td>0.002</td><td>0</td><td>mg/L</td></tr>",
                            "<tr><td>Xylenes</td><td>1.75</td><td>0.0005</td><td>1.8</td><td>1997</td><td>10</td><td>10</td><td>mg/L</td></tr>",
                            "<tr><td>Alachlor</td><td>0.002</td><td>0.001</td><td>0.004</td><td>1997</td><td>0.002</td><td>0</td><td>mg/L</td></tr>",
                            "<tr><td>Atrazine</td><td>0.001</td><td>0.0005</td><td>0.00015</td><td>1999</td><td>0.003</td><td>0.003</td><td>mg/L</td></tr>",
                            "<tr><td>Bentazon</td><td>0.018</td><td>0.002</td><td>0.2</td><td>2009</td><td>NULL</td><td>NULL</td><td>mg/L</td></tr>",
                            "<tr><td>Benzo(a)pyrene</td><td>0.0002</td><td>0.0001</td><td>7E-06</td><td>2010</td><td>0.0002</td><td>0</td><td>mg/L</td></tr>",
                            "<tr><td>Carbofuran</td><td>0.018</td><td>0.005</td><td>0.0007</td><td>2016</td><td>0.04</td><td>0.04</td><td>mg/L</td></tr>",
                            "<tr><td>Chlordane</td><td>0.0001</td><td>0.0001</td><td>3E-05</td><td>2006</td><td>0.002</td><td>0</td><td>mg/L</td></tr>",
                            "<tr><td>Dalapon</td><td>0.2</td><td>0.01</td><td>0.79</td><td>2009</td><td>0.2</td><td>0.2</td><td>mg/L</td></tr>",
                            "<tr><td>1,2-Dibromo-3-chloropropane (DBCP)</td><td>0.0002</td><td>1E-05</td><td>3E-06</td><td>2020</td><td>0.0002</td><td>0</td><td>mg/L</td></tr>",
                            "<tr><td>2,4-Dichlorophenoxyacetic acid (2,4-D)</td><td>0.07</td><td>0.01</td><td>0.02</td><td>2009</td><td>0.07</td><td>0.07</td><td>mg/L</td></tr>",
                            "<tr><td>Di(2-ethylhexyl)adipate</td><td>0.4</td><td>0.005</td><td>0.2</td><td>2003</td><td>0.4</td><td>0.4</td><td>mg/L</td></tr>",
                            "<tr><td>Di(2-ethylhexyl)phthalate (DEHP)</td><td>0.004</td><td>0.003</td><td>0.012</td><td>1997</td><td>0.006</td><td>0</td><td>mg/L</td></tr>",
                            "<tr><td>Dinoseb</td><td>0.007</td><td>0.002</td><td>0.014</td><td>2010</td><td>0.007</td><td>0.007</td><td>mg/L</td></tr>",
                            "<tr><td>Diquat</td><td>0.02</td><td>0.004</td><td>0.006</td><td>2016</td><td>0.02</td><td>0.02</td><td>mg/L</td></tr>",
                            "<tr><td>Endothal</td><td>0.1</td><td>0.045</td><td>0.094</td><td>2014</td><td>0.1</td><td>0.1</td><td>mg/L</td></tr>",
                            "<tr><td>Endrin</td><td>0.002</td><td>0.0001</td><td>0.0003</td><td>2016</td><td>0.002</td><td>0.002</td><td>mg/L</td></tr>",
                            "<tr><td>Ethylene dibromide (EDB)</td><td>5E-05</td><td>2E-05</td><td>1E-05</td><td>2003</td><td>5E-05</td><td>0</td><td>mg/L</td></tr>",
                            "<tr><td>Glyphosate</td><td>0.7</td><td>0.025</td><td>0.9</td><td>2007</td><td>0.7</td><td>0.7</td><td>mg/L</td></tr>",
                            "<tr><td>Heptachlor</td><td>1E-05</td><td>1E-05</td><td>8E-06</td><td>1999</td><td>0.0004</td><td>0</td><td>mg/L</td></tr>",
                            "<tr><td>Heptachlor epoxide</td><td>1E-05</td><td>1E-05</td><td>6E-06</td><td>1999</td><td>0.0002</td><td>0</td><td>mg/L</td></tr>",
                            "<tr><td>Hexachlorobenzene</td><td>0.001</td><td>0.0005</td><td>3E-05</td><td>2003</td><td>0.001</td><td>0</td><td>mg/L</td></tr>",
                            "<tr><td>Hexachlorocyclopentadiene</td><td>0.05</td><td>0.001</td><td>0.002</td><td>2014</td><td>0.05</td><td>0.05</td><td>mg/L</td></tr>",
                            "<tr><td>Lindane</td><td>0.0002</td><td>0.0002</td><td>3.2E-05</td><td>2005</td><td>0.0002</td><td>0.0002</td><td>mg/L</td></tr>",
                            "<tr><td>Methoxychlor</td><td>0.03</td><td>0.01</td><td>9E-05</td><td>2010</td><td>0.04</td><td>0.04</td><td>mg/L</td></tr>",
                            "<tr><td>Molinate</td><td>0.02</td><td>0.002</td><td>0.001</td><td>2008</td><td>NULL</td><td>NULL</td><td>mg/L</td></tr>",
                            "<tr><td>Oxamyl</td><td>0.05</td><td>0.02</td><td>0.026</td><td>2009</td><td>0.2</td><td>0.2</td><td>mg/L</td></tr>",
                            "<tr><td>Pentachlorophenol</td><td>0.001</td><td>0.0002</td><td>0.0003</td><td>2009</td><td>0.001</td><td>0</td><td>mg/L</td></tr>",
                            "<tr><td>Picloram</td><td>0.5</td><td>0.001</td><td>0.166</td><td>2016</td><td>0.5</td><td>0.5</td><td>mg/L</td></tr>",
                            "<tr><td>Polychlorinated biphenyls (PCBs)</td><td>0.0005</td><td>0.0005</td><td>9E-05</td><td>2007</td><td>0.0005</td><td>0</td><td>mg/L</td></tr>",
                            "<tr><td>Simazine</td><td>0.004</td><td>0.001</td><td>0.004</td><td>2001</td><td>0.004</td><td>0.004</td><td>mg/L</td></tr>",
                            "<tr><td>Thiobencarb</td><td>0.07</td><td>0.001</td><td>0.042</td><td>2016</td><td>NULL</td><td>NULL</td><td>mg/L</td></tr>",
                            "<tr><td>Toxaphene</td><td>0.003</td><td>0.001</td><td>3E-05</td><td>2003</td><td>0.003</td><td>0</td><td>mg/L</td></tr>",
                            "<tr><td>1,2,3-Trichloropropane</td><td>5E-06</td><td>5E-06</td><td>7E-07</td><td>2009</td><td>NULL</td><td>NULL</td><td>mg/L</td></tr>",
                            "<tr><td>2,3,7,8-TCDD (dioxin)</td><td>3E-08</td><td>5E-09</td><td>5E-11</td><td>2010</td><td>3E-08</td><td>0</td><td>mg/L</td></tr>",
                            "<tr><td>2,4,5-TP (Silvex)</td><td>0.05</td><td>0.001</td><td>0.003</td><td>2014</td><td>0.05</td><td>0.05</td><td>mg/L</td></tr>",
                            "<tr><td>Total Trihalomethanes</td><td>0.08</td><td>NULL</td><td>NULL</td><td>NULL</td><td>0.08</td><td>NULL</td><td>mg/L</td></tr>",
                            "<tr><td>Haloacetic Acids (five) (HAA5)</td><td>0.06</td><td>NULL</td><td>NULL</td><td>NULL</td><td>0.06</td><td>NULL</td><td>mg/L</td></tr>",
                            "<tr><td>Bromate</td><td>0.01</td><td>0.005</td><td>0.0001</td><td>2009</td><td>0.01</td><td>0</td><td>mg/L</td></tr>",
                            "<tr><td>Chlorite</td><td>1</td><td>0.02</td><td>0.05</td><td>2009</td><td>1</td><td>0.8</td><td>mg/L</td></tr>",
                            "</table>"
                        ]
                    }
                }
            ],
            "execution_count": 1
        },
        {
            "cell_type": "markdown",
            "source": [
                "Just familiarize yourself with the dataset at this point. The only factors we will be considering for the remainder of this tutorial are the contaminants, state\\_max\\_level, and federal\\_max\\_level. The contaminant is pretty self-explanatory. The state maximum level is the maximum permissible amount allowed by the state of California, using the units in the last column. Similarly, the federal maximum level is that set by the US EPA. In this dataset, there are no null values in the state\\_max\\_level; however, this is not the case with the federal restrictions. \n",
                "\n",
                "### **Water Regulation Queries**\n",
                "\n",
                "The first question we want to address:_  \n",
                "How many_ federal standards are stricter (lower) than the California standards?"
            ],
            "metadata": {
                "azdata_cell_guid": "d4208e58-d82a-4ac7-8e82-e21edc02f992"
            },
            "attachments": {}
        },
        {
            "cell_type": "code",
            "source": [
                "SELECT * \r\n",
                "FROM dbo.state_regulations\r\n",
                "WHERE federal_max_level < state_max_level;"
            ],
            "metadata": {
                "azdata_cell_guid": "09a96a40-ba1c-449c-87a7-09eb1d458c46",
                "language": "sql"
            },
            "outputs": [
                {
                    "output_type": "display_data",
                    "data": {
                        "text/html": "(0 rows affected)"
                    },
                    "metadata": {}
                },
                {
                    "output_type": "display_data",
                    "data": {
                        "text/html": "Total execution time: 00:00:00.008"
                    },
                    "metadata": {}
                },
                {
                    "output_type": "execute_result",
                    "metadata": {},
                    "execution_count": 2,
                    "data": {
                        "application/vnd.dataresource+json": {
                            "schema": {
                                "fields": [
                                    {
                                        "name": "contaminant"
                                    },
                                    {
                                        "name": "state_max_level"
                                    },
                                    {
                                        "name": "state_detection_limit"
                                    },
                                    {
                                        "name": "state_health_goal"
                                    },
                                    {
                                        "name": "state_health_date"
                                    },
                                    {
                                        "name": "federal_max_level"
                                    },
                                    {
                                        "name": "federal_max_level_goal"
                                    },
                                    {
                                        "name": "units"
                                    }
                                ]
                            },
                            "data": []
                        },
                        "text/html": [
                            "<table>",
                            "<tr><th>contaminant</th><th>state_max_level</th><th>state_detection_limit</th><th>state_health_goal</th><th>state_health_date</th><th>federal_max_level</th><th>federal_max_level_goal</th><th>units</th></tr>",
                            "</table>"
                        ]
                    }
                }
            ],
            "execution_count": 2
        },
        {
            "cell_type": "markdown",
            "source": [
                "If you get an empty set, you are correct. There are no cases in which California has laxer standards than the federal government. \n",
                "\n",
                "Okay, next question:   \n",
                "_How many_ state standards are stricter than the federal standards? \n",
                "\n",
                "This is slightly more complicated than it seems… If we consider only the contaminants where there is a federal standard, it’s a very easy script:"
            ],
            "metadata": {
                "language": "sql",
                "azdata_cell_guid": "23d8b09f-c0ad-4cea-a775-35431c94579a"
            },
            "attachments": {}
        },
        {
            "cell_type": "code",
            "source": [
                "SELECT  COUNT(contaminant) AS Number_of_Stricter_State_Maximums\r\n",
                "FROM dbo.state_regulations\r\n",
                "WHERE federal_max_level > state_max_level;"
            ],
            "metadata": {
                "language": "sql",
                "azdata_cell_guid": "9d898895-5964-4b8a-a1e1-727cf3294a89"
            },
            "outputs": [],
            "execution_count": null
        },
        {
            "cell_type": "markdown",
            "source": [
                "But what about the nulls? If there is a null federal standard, does that mean that the state is stricter in its regulations? \n",
                "\n",
                "If you think the answer to that question is yes, then we need to take an additional step to address this issue. We can use COALESCE to fill in the null federal values with the state value and then add a number so that the federal is automatically higher (less strict). \n",
                "\n",
                "Quick refresher on COALESCE — it will fill nulls in the target column with a reference column:"
            ],
            "metadata": {
                "language": "sql",
                "azdata_cell_guid": "3fbc4f06-0cb0-42f5-912e-1c983d8d6c6d"
            },
            "attachments": {}
        },
        {
            "cell_type": "code",
            "source": [
                "SELECT  contaminant, \r\n",
                "        state_max_level,\r\n",
                "        federal_max_level,\r\n",
                "        COALESCE(federal_max_level, state_max_level + 1) AS federal_not_null\r\n",
                "FROM    dbo.state_regulations"
            ],
            "metadata": {
                "language": "sql",
                "azdata_cell_guid": "3be8ec96-6d21-4a3c-8620-525c4430f7ba"
            },
            "outputs": [
                {
                    "output_type": "display_data",
                    "data": {
                        "text/html": "(91 rows affected)"
                    },
                    "metadata": {}
                },
                {
                    "output_type": "display_data",
                    "data": {
                        "text/html": "Total execution time: 00:00:00.017"
                    },
                    "metadata": {}
                },
                {
                    "output_type": "execute_result",
                    "metadata": {},
                    "execution_count": 3,
                    "data": {
                        "application/vnd.dataresource+json": {
                            "schema": {
                                "fields": [
                                    {
                                        "name": "contaminant"
                                    },
                                    {
                                        "name": "state_max_level"
                                    },
                                    {
                                        "name": "federal_max_level"
                                    },
                                    {
                                        "name": "federal_not_null"
                                    }
                                ]
                            },
                            "data": [
                                {
                                    "0": "Aluminum",
                                    "1": "1",
                                    "2": "NULL",
                                    "3": "2"
                                },
                                {
                                    "0": "Antimony",
                                    "1": "0.006",
                                    "2": "0.006",
                                    "3": "0.006"
                                },
                                {
                                    "0": "Arsenic",
                                    "1": "0.01",
                                    "2": "0.01",
                                    "3": "0.01"
                                },
                                {
                                    "0": "Asbestos",
                                    "1": "7",
                                    "2": "7",
                                    "3": "7"
                                },
                                {
                                    "0": "Barium",
                                    "1": "1",
                                    "2": "2",
                                    "3": "2"
                                },
                                {
                                    "0": "Beryllium",
                                    "1": "0.004",
                                    "2": "0.004",
                                    "3": "0.004"
                                },
                                {
                                    "0": "Cadmium",
                                    "1": "0.005",
                                    "2": "0.005",
                                    "3": "0.005"
                                },
                                {
                                    "0": "Chromium, Total",
                                    "1": "0.05",
                                    "2": "0.1",
                                    "3": "0.1"
                                },
                                {
                                    "0": "Cyanide",
                                    "1": "0.15",
                                    "2": "0.2",
                                    "3": "0.2"
                                },
                                {
                                    "0": "Fluoride",
                                    "1": "2",
                                    "2": "4",
                                    "3": "4"
                                },
                                {
                                    "0": "Mercury",
                                    "1": "0.002",
                                    "2": "0.002",
                                    "3": "0.002"
                                },
                                {
                                    "0": "Nickel",
                                    "1": "0.1",
                                    "2": "NULL",
                                    "3": "1.1"
                                },
                                {
                                    "0": "Nitrate",
                                    "1": "10",
                                    "2": "10",
                                    "3": "10"
                                },
                                {
                                    "0": "Nitrite",
                                    "1": "1",
                                    "2": "1",
                                    "3": "1"
                                },
                                {
                                    "0": "Nitrate + Nitrite",
                                    "1": "10",
                                    "2": "NULL",
                                    "3": "11"
                                },
                                {
                                    "0": "Perchlorate",
                                    "1": "0.006",
                                    "2": "NULL",
                                    "3": "1.006"
                                },
                                {
                                    "0": "Selenium",
                                    "1": "0.05",
                                    "2": "0.05",
                                    "3": "0.05"
                                },
                                {
                                    "0": "Thallium",
                                    "1": "0.002",
                                    "2": "0.002",
                                    "3": "0.002"
                                },
                                {
                                    "0": "Copper",
                                    "1": "1.3",
                                    "2": "1.3",
                                    "3": "1.3"
                                },
                                {
                                    "0": "Lead",
                                    "1": "0.015",
                                    "2": "0.015",
                                    "3": "0.015"
                                },
                                {
                                    "0": "Gross Alpha Particle",
                                    "1": "15",
                                    "2": "15",
                                    "3": "15"
                                },
                                {
                                    "0": "Gross Beta Particle",
                                    "1": "4",
                                    "2": "4",
                                    "3": "4"
                                },
                                {
                                    "0": "Radium-226 + Radium-228",
                                    "1": "5",
                                    "2": "5",
                                    "3": "5"
                                },
                                {
                                    "0": "Strontium-90",
                                    "1": "8",
                                    "2": "NULL",
                                    "3": "9"
                                },
                                {
                                    "0": "Tritium",
                                    "1": "20000",
                                    "2": "NULL",
                                    "3": "20001"
                                },
                                {
                                    "0": "Uranium",
                                    "1": "20",
                                    "2": "30",
                                    "3": "30"
                                },
                                {
                                    "0": "Benzene",
                                    "1": "0.001",
                                    "2": "0.005",
                                    "3": "0.005"
                                },
                                {
                                    "0": "Carbon tetrachloride",
                                    "1": "0.0005",
                                    "2": "0.005",
                                    "3": "0.005"
                                },
                                {
                                    "0": "1,2-Dichlorobenzene",
                                    "1": "0.6",
                                    "2": "0.6",
                                    "3": "0.6"
                                },
                                {
                                    "0": "1,4-Dichlorobenzene(p-DCB)",
                                    "1": "0.005",
                                    "2": "0.075",
                                    "3": "0.075"
                                },
                                {
                                    "0": "1,1-Dichloroethane (1,1-DCA)",
                                    "1": "0.005",
                                    "2": "NULL",
                                    "3": "1.005"
                                },
                                {
                                    "0": "1,2-Dichloroethane (1,2-DCA)",
                                    "1": "0.0005",
                                    "2": "0.005",
                                    "3": "0.005"
                                },
                                {
                                    "0": "1,1-Dichloroethylene (1,1-DCE)",
                                    "1": "0.006",
                                    "2": "0.007",
                                    "3": "0.007"
                                },
                                {
                                    "0": "cis-1,2-Dichloroethylene",
                                    "1": "0.006",
                                    "2": "0.07",
                                    "3": "0.07"
                                },
                                {
                                    "0": "trans-1,2-Dichloroethylene",
                                    "1": "0.01",
                                    "2": "0.1",
                                    "3": "0.1"
                                },
                                {
                                    "0": "Dichloromethane (Methylene chloride)",
                                    "1": "0.005",
                                    "2": "0.005",
                                    "3": "0.005"
                                },
                                {
                                    "0": "1,2-Dichloropropane",
                                    "1": "0.005",
                                    "2": "0.005",
                                    "3": "0.005"
                                },
                                {
                                    "0": "1,3-Dichloropropene",
                                    "1": "0.0005",
                                    "2": "NULL",
                                    "3": "1.0005"
                                },
                                {
                                    "0": "Ethylbenzene",
                                    "1": "0.3",
                                    "2": "0.7",
                                    "3": "0.7"
                                },
                                {
                                    "0": "Methyl tertiary butyl ether (MTBE)",
                                    "1": "0.013",
                                    "2": "NULL",
                                    "3": "1.013"
                                },
                                {
                                    "0": "Monochlorobenzene",
                                    "1": "0.07",
                                    "2": "0.1",
                                    "3": "0.1"
                                },
                                {
                                    "0": "Styrene",
                                    "1": "0.1",
                                    "2": "0.1",
                                    "3": "0.1"
                                },
                                {
                                    "0": "1,1,2,2-Tetrachloroethane",
                                    "1": "0.001",
                                    "2": "0.1",
                                    "3": "0.1"
                                },
                                {
                                    "0": "Tetrachloroethylene (PCE)",
                                    "1": "0.005",
                                    "2": "0.005",
                                    "3": "0.005"
                                },
                                {
                                    "0": "Toluene",
                                    "1": "0.15",
                                    "2": "1",
                                    "3": "1"
                                },
                                {
                                    "0": "1,2,4-Trichlorobenzene",
                                    "1": "0.005",
                                    "2": "0.07",
                                    "3": "0.07"
                                },
                                {
                                    "0": "1,1,1-Trichloroethane (1,1,1-TCA)",
                                    "1": "0.2",
                                    "2": "0.2",
                                    "3": "0.2"
                                },
                                {
                                    "0": "1,1,2-Trichloroethane (1,1,2-TCA)",
                                    "1": "0.005",
                                    "2": "0.005",
                                    "3": "0.005"
                                },
                                {
                                    "0": "Trichloroethylene (TCE)",
                                    "1": "0.005",
                                    "2": "0.005",
                                    "3": "0.005"
                                },
                                {
                                    "0": "Trichlorofluoromethane (Freon 11)",
                                    "1": "0.15",
                                    "2": "NULL",
                                    "3": "1.15"
                                },
                                {
                                    "0": "1,1,2-Trichloro-1,2,2-Trifluoroethane (Freon 113)",
                                    "1": "1.2",
                                    "2": "NULL",
                                    "3": "2.2"
                                },
                                {
                                    "0": "Vinyl chloride",
                                    "1": "0.0005",
                                    "2": "0.002",
                                    "3": "0.002"
                                },
                                {
                                    "0": "Xylenes",
                                    "1": "1.75",
                                    "2": "10",
                                    "3": "10"
                                },
                                {
                                    "0": "Alachlor",
                                    "1": "0.002",
                                    "2": "0.002",
                                    "3": "0.002"
                                },
                                {
                                    "0": "Atrazine",
                                    "1": "0.001",
                                    "2": "0.003",
                                    "3": "0.003"
                                },
                                {
                                    "0": "Bentazon",
                                    "1": "0.018",
                                    "2": "NULL",
                                    "3": "1.018"
                                },
                                {
                                    "0": "Benzo(a)pyrene",
                                    "1": "0.0002",
                                    "2": "0.0002",
                                    "3": "0.0002"
                                },
                                {
                                    "0": "Carbofuran",
                                    "1": "0.018",
                                    "2": "0.04",
                                    "3": "0.04"
                                },
                                {
                                    "0": "Chlordane",
                                    "1": "0.0001",
                                    "2": "0.002",
                                    "3": "0.002"
                                },
                                {
                                    "0": "Dalapon",
                                    "1": "0.2",
                                    "2": "0.2",
                                    "3": "0.2"
                                },
                                {
                                    "0": "1,2-Dibromo-3-chloropropane (DBCP)",
                                    "1": "0.0002",
                                    "2": "0.0002",
                                    "3": "0.0002"
                                },
                                {
                                    "0": "2,4-Dichlorophenoxyacetic acid (2,4-D)",
                                    "1": "0.07",
                                    "2": "0.07",
                                    "3": "0.07"
                                },
                                {
                                    "0": "Di(2-ethylhexyl)adipate",
                                    "1": "0.4",
                                    "2": "0.4",
                                    "3": "0.4"
                                },
                                {
                                    "0": "Di(2-ethylhexyl)phthalate (DEHP)",
                                    "1": "0.004",
                                    "2": "0.006",
                                    "3": "0.006"
                                },
                                {
                                    "0": "Dinoseb",
                                    "1": "0.007",
                                    "2": "0.007",
                                    "3": "0.007"
                                },
                                {
                                    "0": "Diquat",
                                    "1": "0.02",
                                    "2": "0.02",
                                    "3": "0.02"
                                },
                                {
                                    "0": "Endothal",
                                    "1": "0.1",
                                    "2": "0.1",
                                    "3": "0.1"
                                },
                                {
                                    "0": "Endrin",
                                    "1": "0.002",
                                    "2": "0.002",
                                    "3": "0.002"
                                },
                                {
                                    "0": "Ethylene dibromide (EDB)",
                                    "1": "5E-05",
                                    "2": "5E-05",
                                    "3": "5E-05"
                                },
                                {
                                    "0": "Glyphosate",
                                    "1": "0.7",
                                    "2": "0.7",
                                    "3": "0.7"
                                },
                                {
                                    "0": "Heptachlor",
                                    "1": "1E-05",
                                    "2": "0.0004",
                                    "3": "0.0004"
                                },
                                {
                                    "0": "Heptachlor epoxide",
                                    "1": "1E-05",
                                    "2": "0.0002",
                                    "3": "0.0002"
                                },
                                {
                                    "0": "Hexachlorobenzene",
                                    "1": "0.001",
                                    "2": "0.001",
                                    "3": "0.001"
                                },
                                {
                                    "0": "Hexachlorocyclopentadiene",
                                    "1": "0.05",
                                    "2": "0.05",
                                    "3": "0.05"
                                },
                                {
                                    "0": "Lindane",
                                    "1": "0.0002",
                                    "2": "0.0002",
                                    "3": "0.0002"
                                },
                                {
                                    "0": "Methoxychlor",
                                    "1": "0.03",
                                    "2": "0.04",
                                    "3": "0.04"
                                },
                                {
                                    "0": "Molinate",
                                    "1": "0.02",
                                    "2": "NULL",
                                    "3": "1.02"
                                },
                                {
                                    "0": "Oxamyl",
                                    "1": "0.05",
                                    "2": "0.2",
                                    "3": "0.2"
                                },
                                {
                                    "0": "Pentachlorophenol",
                                    "1": "0.001",
                                    "2": "0.001",
                                    "3": "0.001"
                                },
                                {
                                    "0": "Picloram",
                                    "1": "0.5",
                                    "2": "0.5",
                                    "3": "0.5"
                                },
                                {
                                    "0": "Polychlorinated biphenyls (PCBs)",
                                    "1": "0.0005",
                                    "2": "0.0005",
                                    "3": "0.0005"
                                },
                                {
                                    "0": "Simazine",
                                    "1": "0.004",
                                    "2": "0.004",
                                    "3": "0.004"
                                },
                                {
                                    "0": "Thiobencarb",
                                    "1": "0.07",
                                    "2": "NULL",
                                    "3": "1.07"
                                },
                                {
                                    "0": "Toxaphene",
                                    "1": "0.003",
                                    "2": "0.003",
                                    "3": "0.003"
                                },
                                {
                                    "0": "1,2,3-Trichloropropane",
                                    "1": "5E-06",
                                    "2": "NULL",
                                    "3": "1.000005"
                                },
                                {
                                    "0": "2,3,7,8-TCDD (dioxin)",
                                    "1": "3E-08",
                                    "2": "3E-08",
                                    "3": "3E-08"
                                },
                                {
                                    "0": "2,4,5-TP (Silvex)",
                                    "1": "0.05",
                                    "2": "0.05",
                                    "3": "0.05"
                                },
                                {
                                    "0": "Total Trihalomethanes",
                                    "1": "0.08",
                                    "2": "0.08",
                                    "3": "0.08"
                                },
                                {
                                    "0": "Haloacetic Acids (five) (HAA5)",
                                    "1": "0.06",
                                    "2": "0.06",
                                    "3": "0.06"
                                },
                                {
                                    "0": "Bromate",
                                    "1": "0.01",
                                    "2": "0.01",
                                    "3": "0.01"
                                },
                                {
                                    "0": "Chlorite",
                                    "1": "1",
                                    "2": "1",
                                    "3": "1"
                                }
                            ]
                        },
                        "text/html": [
                            "<table>",
                            "<tr><th>contaminant</th><th>state_max_level</th><th>federal_max_level</th><th>federal_not_null</th></tr>",
                            "<tr><td>Aluminum</td><td>1</td><td>NULL</td><td>2</td></tr>",
                            "<tr><td>Antimony</td><td>0.006</td><td>0.006</td><td>0.006</td></tr>",
                            "<tr><td>Arsenic</td><td>0.01</td><td>0.01</td><td>0.01</td></tr>",
                            "<tr><td>Asbestos</td><td>7</td><td>7</td><td>7</td></tr>",
                            "<tr><td>Barium</td><td>1</td><td>2</td><td>2</td></tr>",
                            "<tr><td>Beryllium</td><td>0.004</td><td>0.004</td><td>0.004</td></tr>",
                            "<tr><td>Cadmium</td><td>0.005</td><td>0.005</td><td>0.005</td></tr>",
                            "<tr><td>Chromium, Total</td><td>0.05</td><td>0.1</td><td>0.1</td></tr>",
                            "<tr><td>Cyanide</td><td>0.15</td><td>0.2</td><td>0.2</td></tr>",
                            "<tr><td>Fluoride</td><td>2</td><td>4</td><td>4</td></tr>",
                            "<tr><td>Mercury</td><td>0.002</td><td>0.002</td><td>0.002</td></tr>",
                            "<tr><td>Nickel</td><td>0.1</td><td>NULL</td><td>1.1</td></tr>",
                            "<tr><td>Nitrate</td><td>10</td><td>10</td><td>10</td></tr>",
                            "<tr><td>Nitrite</td><td>1</td><td>1</td><td>1</td></tr>",
                            "<tr><td>Nitrate + Nitrite</td><td>10</td><td>NULL</td><td>11</td></tr>",
                            "<tr><td>Perchlorate</td><td>0.006</td><td>NULL</td><td>1.006</td></tr>",
                            "<tr><td>Selenium</td><td>0.05</td><td>0.05</td><td>0.05</td></tr>",
                            "<tr><td>Thallium</td><td>0.002</td><td>0.002</td><td>0.002</td></tr>",
                            "<tr><td>Copper</td><td>1.3</td><td>1.3</td><td>1.3</td></tr>",
                            "<tr><td>Lead</td><td>0.015</td><td>0.015</td><td>0.015</td></tr>",
                            "<tr><td>Gross Alpha Particle</td><td>15</td><td>15</td><td>15</td></tr>",
                            "<tr><td>Gross Beta Particle</td><td>4</td><td>4</td><td>4</td></tr>",
                            "<tr><td>Radium-226 + Radium-228</td><td>5</td><td>5</td><td>5</td></tr>",
                            "<tr><td>Strontium-90</td><td>8</td><td>NULL</td><td>9</td></tr>",
                            "<tr><td>Tritium</td><td>20000</td><td>NULL</td><td>20001</td></tr>",
                            "<tr><td>Uranium</td><td>20</td><td>30</td><td>30</td></tr>",
                            "<tr><td>Benzene</td><td>0.001</td><td>0.005</td><td>0.005</td></tr>",
                            "<tr><td>Carbon tetrachloride</td><td>0.0005</td><td>0.005</td><td>0.005</td></tr>",
                            "<tr><td>1,2-Dichlorobenzene</td><td>0.6</td><td>0.6</td><td>0.6</td></tr>",
                            "<tr><td>1,4-Dichlorobenzene(p-DCB)</td><td>0.005</td><td>0.075</td><td>0.075</td></tr>",
                            "<tr><td>1,1-Dichloroethane (1,1-DCA)</td><td>0.005</td><td>NULL</td><td>1.005</td></tr>",
                            "<tr><td>1,2-Dichloroethane (1,2-DCA)</td><td>0.0005</td><td>0.005</td><td>0.005</td></tr>",
                            "<tr><td>1,1-Dichloroethylene (1,1-DCE)</td><td>0.006</td><td>0.007</td><td>0.007</td></tr>",
                            "<tr><td>cis-1,2-Dichloroethylene</td><td>0.006</td><td>0.07</td><td>0.07</td></tr>",
                            "<tr><td>trans-1,2-Dichloroethylene</td><td>0.01</td><td>0.1</td><td>0.1</td></tr>",
                            "<tr><td>Dichloromethane (Methylene chloride)</td><td>0.005</td><td>0.005</td><td>0.005</td></tr>",
                            "<tr><td>1,2-Dichloropropane</td><td>0.005</td><td>0.005</td><td>0.005</td></tr>",
                            "<tr><td>1,3-Dichloropropene</td><td>0.0005</td><td>NULL</td><td>1.0005</td></tr>",
                            "<tr><td>Ethylbenzene</td><td>0.3</td><td>0.7</td><td>0.7</td></tr>",
                            "<tr><td>Methyl tertiary butyl ether (MTBE)</td><td>0.013</td><td>NULL</td><td>1.013</td></tr>",
                            "<tr><td>Monochlorobenzene</td><td>0.07</td><td>0.1</td><td>0.1</td></tr>",
                            "<tr><td>Styrene</td><td>0.1</td><td>0.1</td><td>0.1</td></tr>",
                            "<tr><td>1,1,2,2-Tetrachloroethane</td><td>0.001</td><td>0.1</td><td>0.1</td></tr>",
                            "<tr><td>Tetrachloroethylene (PCE)</td><td>0.005</td><td>0.005</td><td>0.005</td></tr>",
                            "<tr><td>Toluene</td><td>0.15</td><td>1</td><td>1</td></tr>",
                            "<tr><td>1,2,4-Trichlorobenzene</td><td>0.005</td><td>0.07</td><td>0.07</td></tr>",
                            "<tr><td>1,1,1-Trichloroethane (1,1,1-TCA)</td><td>0.2</td><td>0.2</td><td>0.2</td></tr>",
                            "<tr><td>1,1,2-Trichloroethane (1,1,2-TCA)</td><td>0.005</td><td>0.005</td><td>0.005</td></tr>",
                            "<tr><td>Trichloroethylene (TCE)</td><td>0.005</td><td>0.005</td><td>0.005</td></tr>",
                            "<tr><td>Trichlorofluoromethane (Freon 11)</td><td>0.15</td><td>NULL</td><td>1.15</td></tr>",
                            "<tr><td>1,1,2-Trichloro-1,2,2-Trifluoroethane (Freon 113)</td><td>1.2</td><td>NULL</td><td>2.2</td></tr>",
                            "<tr><td>Vinyl chloride</td><td>0.0005</td><td>0.002</td><td>0.002</td></tr>",
                            "<tr><td>Xylenes</td><td>1.75</td><td>10</td><td>10</td></tr>",
                            "<tr><td>Alachlor</td><td>0.002</td><td>0.002</td><td>0.002</td></tr>",
                            "<tr><td>Atrazine</td><td>0.001</td><td>0.003</td><td>0.003</td></tr>",
                            "<tr><td>Bentazon</td><td>0.018</td><td>NULL</td><td>1.018</td></tr>",
                            "<tr><td>Benzo(a)pyrene</td><td>0.0002</td><td>0.0002</td><td>0.0002</td></tr>",
                            "<tr><td>Carbofuran</td><td>0.018</td><td>0.04</td><td>0.04</td></tr>",
                            "<tr><td>Chlordane</td><td>0.0001</td><td>0.002</td><td>0.002</td></tr>",
                            "<tr><td>Dalapon</td><td>0.2</td><td>0.2</td><td>0.2</td></tr>",
                            "<tr><td>1,2-Dibromo-3-chloropropane (DBCP)</td><td>0.0002</td><td>0.0002</td><td>0.0002</td></tr>",
                            "<tr><td>2,4-Dichlorophenoxyacetic acid (2,4-D)</td><td>0.07</td><td>0.07</td><td>0.07</td></tr>",
                            "<tr><td>Di(2-ethylhexyl)adipate</td><td>0.4</td><td>0.4</td><td>0.4</td></tr>",
                            "<tr><td>Di(2-ethylhexyl)phthalate (DEHP)</td><td>0.004</td><td>0.006</td><td>0.006</td></tr>",
                            "<tr><td>Dinoseb</td><td>0.007</td><td>0.007</td><td>0.007</td></tr>",
                            "<tr><td>Diquat</td><td>0.02</td><td>0.02</td><td>0.02</td></tr>",
                            "<tr><td>Endothal</td><td>0.1</td><td>0.1</td><td>0.1</td></tr>",
                            "<tr><td>Endrin</td><td>0.002</td><td>0.002</td><td>0.002</td></tr>",
                            "<tr><td>Ethylene dibromide (EDB)</td><td>5E-05</td><td>5E-05</td><td>5E-05</td></tr>",
                            "<tr><td>Glyphosate</td><td>0.7</td><td>0.7</td><td>0.7</td></tr>",
                            "<tr><td>Heptachlor</td><td>1E-05</td><td>0.0004</td><td>0.0004</td></tr>",
                            "<tr><td>Heptachlor epoxide</td><td>1E-05</td><td>0.0002</td><td>0.0002</td></tr>",
                            "<tr><td>Hexachlorobenzene</td><td>0.001</td><td>0.001</td><td>0.001</td></tr>",
                            "<tr><td>Hexachlorocyclopentadiene</td><td>0.05</td><td>0.05</td><td>0.05</td></tr>",
                            "<tr><td>Lindane</td><td>0.0002</td><td>0.0002</td><td>0.0002</td></tr>",
                            "<tr><td>Methoxychlor</td><td>0.03</td><td>0.04</td><td>0.04</td></tr>",
                            "<tr><td>Molinate</td><td>0.02</td><td>NULL</td><td>1.02</td></tr>",
                            "<tr><td>Oxamyl</td><td>0.05</td><td>0.2</td><td>0.2</td></tr>",
                            "<tr><td>Pentachlorophenol</td><td>0.001</td><td>0.001</td><td>0.001</td></tr>",
                            "<tr><td>Picloram</td><td>0.5</td><td>0.5</td><td>0.5</td></tr>",
                            "<tr><td>Polychlorinated biphenyls (PCBs)</td><td>0.0005</td><td>0.0005</td><td>0.0005</td></tr>",
                            "<tr><td>Simazine</td><td>0.004</td><td>0.004</td><td>0.004</td></tr>",
                            "<tr><td>Thiobencarb</td><td>0.07</td><td>NULL</td><td>1.07</td></tr>",
                            "<tr><td>Toxaphene</td><td>0.003</td><td>0.003</td><td>0.003</td></tr>",
                            "<tr><td>1,2,3-Trichloropropane</td><td>5E-06</td><td>NULL</td><td>1.000005</td></tr>",
                            "<tr><td>2,3,7,8-TCDD (dioxin)</td><td>3E-08</td><td>3E-08</td><td>3E-08</td></tr>",
                            "<tr><td>2,4,5-TP (Silvex)</td><td>0.05</td><td>0.05</td><td>0.05</td></tr>",
                            "<tr><td>Total Trihalomethanes</td><td>0.08</td><td>0.08</td><td>0.08</td></tr>",
                            "<tr><td>Haloacetic Acids (five) (HAA5)</td><td>0.06</td><td>0.06</td><td>0.06</td></tr>",
                            "<tr><td>Bromate</td><td>0.01</td><td>0.01</td><td>0.01</td></tr>",
                            "<tr><td>Chlorite</td><td>1</td><td>1</td><td>1</td></tr>",
                            "</table>"
                        ]
                    }
                }
            ],
            "execution_count": 3
        },
        {
            "cell_type": "markdown",
            "source": [
                "To do this, we will require a subquery to first coalesce the data and then count the data from the parent query."
            ],
            "metadata": {
                "azdata_cell_guid": "85f9f39c-69d0-4bb4-bdbf-6f91d10c2bd8"
            },
            "attachments": {}
        },
        {
            "cell_type": "code",
            "source": [
                "SELECT COUNT(subquery.contaminant) AS Number_of_Stricter_State_Maximums\r\n",
                "FROM (\r\n",
                "    SELECT  contaminant, \r\n",
                "            state_max_level, \r\n",
                "            federal_max_level, \r\n",
                "            COALESCE(federal_max_level, state_max_level + 1) AS federal_max_coalesced\r\n",
                "    FROM    dbo.state_regulations\r\n",
                "    WHERE   COALESCE(federal_max_level, state_max_level + 1) > state_max_level\r\n",
                ") AS subquery"
            ],
            "metadata": {
                "azdata_cell_guid": "7307e2af-c33d-4711-87db-a5de0ec787e9",
                "language": "sql"
            },
            "outputs": [
                {
                    "output_type": "display_data",
                    "data": {
                        "text/html": "(1 row affected)"
                    },
                    "metadata": {}
                },
                {
                    "output_type": "display_data",
                    "data": {
                        "text/html": "Total execution time: 00:00:00.003"
                    },
                    "metadata": {}
                },
                {
                    "output_type": "execute_result",
                    "metadata": {},
                    "execution_count": 4,
                    "data": {
                        "application/vnd.dataresource+json": {
                            "schema": {
                                "fields": [
                                    {
                                        "name": "Number_of_Stricter_State_Maximums"
                                    }
                                ]
                            },
                            "data": [
                                {
                                    "0": "42"
                                }
                            ]
                        },
                        "text/html": [
                            "<table>",
                            "<tr><th>Number_of_Stricter_State_Maximums</th></tr>",
                            "<tr><td>42</td></tr>",
                            "</table>"
                        ]
                    }
                }
            ],
            "execution_count": 4
        },
        {
            "cell_type": "markdown",
            "source": [
                "As a reminder, using the subquery in the FROM clause requires an alias. Here I used subquery as a reminder, and I also specifically counted the contaminant, as some SQL varieties will allow subquery.\\* but others do not. Since the purpose of this tutorial is to improve the clarity of code, the following is how I actually denote my subquery, so that when returning to the code, I know exactly what it was intended to do:"
            ],
            "metadata": {
                "azdata_cell_guid": "9f1b7676-6746-4a6b-8d74-88ab893b6343"
            },
            "attachments": {}
        },
        {
            "cell_type": "code",
            "source": [
                "SELECT COUNT(Stricter_State_Maximums.contaminant) AS Number_of_Stricter_State_Maximums\r\n",
                "FROM (\r\n",
                "    SELECT  contaminant, \r\n",
                "            state_max_level, \r\n",
                "            federal_max_level, \r\n",
                "            COALESCE(federal_max_level, state_max_level + 1) AS federal_max_coalesced\r\n",
                "    FROM    dbo.state_regulations\r\n",
                "    WHERE   COALESCE(federal_max_level, state_max_level + 1) > state_max_level\r\n",
                ") AS Stricter_State_Maximums"
            ],
            "metadata": {
                "azdata_cell_guid": "217bbec0-d54b-41de-9cb5-2e58572a81b8",
                "language": "sql"
            },
            "outputs": [
                {
                    "output_type": "display_data",
                    "data": {
                        "text/html": "(1 row affected)"
                    },
                    "metadata": {}
                },
                {
                    "output_type": "display_data",
                    "data": {
                        "text/html": "Total execution time: 00:00:00.002"
                    },
                    "metadata": {}
                },
                {
                    "output_type": "execute_result",
                    "metadata": {},
                    "execution_count": 5,
                    "data": {
                        "application/vnd.dataresource+json": {
                            "schema": {
                                "fields": [
                                    {
                                        "name": "Number_of_Stricter_State_Maximums"
                                    }
                                ]
                            },
                            "data": [
                                {
                                    "0": "42"
                                }
                            ]
                        },
                        "text/html": [
                            "<table>",
                            "<tr><th>Number_of_Stricter_State_Maximums</th></tr>",
                            "<tr><td>42</td></tr>",
                            "</table>"
                        ]
                    }
                }
            ],
            "execution_count": 5
        },
        {
            "cell_type": "markdown",
            "source": [
                "### Using a Common Table Expression for Clarity\n",
                "\n",
                "The WITH clause is used prior to the SELECT clause. The alias for the CTE will then be called in the FROM clause in the parent function. Compare this to the first subquery expression:"
            ],
            "metadata": {
                "azdata_cell_guid": "01f8e33a-beea-4983-a761-79c66243eabf"
            },
            "attachments": {}
        },
        {
            "cell_type": "code",
            "source": [
                "WITH cte AS (\r\n",
                "    SELECT  contaminant, \r\n",
                "            state_max_level, \r\n",
                "            federal_max_level, \r\n",
                "            COALESCE(federal_max_level, state_max_level + 1) AS federal_max_coalesced\r\n",
                "    FROM    dbo.state_regulations\r\n",
                "    WHERE   COALESCE(federal_max_level, state_max_level + 1) > state_max_level\r\n",
                ")\r\n",
                "SELECT COUNT(contaminant) AS Number_of_Stricter_State_Maximums\r\n",
                "FROM cte"
            ],
            "metadata": {
                "azdata_cell_guid": "86bfbb48-2ea6-463d-af13-d3fa04be5221",
                "language": "sql"
            },
            "outputs": [
                {
                    "output_type": "display_data",
                    "data": {
                        "text/html": "(1 row affected)"
                    },
                    "metadata": {}
                },
                {
                    "output_type": "display_data",
                    "data": {
                        "text/html": "Total execution time: 00:00:00.003"
                    },
                    "metadata": {}
                },
                {
                    "output_type": "execute_result",
                    "metadata": {},
                    "execution_count": 6,
                    "data": {
                        "application/vnd.dataresource+json": {
                            "schema": {
                                "fields": [
                                    {
                                        "name": "Number_of_Stricter_State_Maximums"
                                    }
                                ]
                            },
                            "data": [
                                {
                                    "0": "42"
                                }
                            ]
                        },
                        "text/html": [
                            "<table>",
                            "<tr><th>Number_of_Stricter_State_Maximums</th></tr>",
                            "<tr><td>42</td></tr>",
                            "</table>"
                        ]
                    }
                }
            ],
            "execution_count": 6
        },
        {
            "cell_type": "markdown",
            "source": [
                "While I have seen many programmers just label these as cte1, cte2, etc., clarity matters! The same expression with better labeling:"
            ],
            "metadata": {
                "azdata_cell_guid": "8a238936-9094-476a-af87-321f3139ed2d"
            },
            "attachments": {}
        },
        {
            "cell_type": "code",
            "source": [
                "WITH Stricter_State_Maximums AS (\r\n",
                "    SELECT  contaminant, \r\n",
                "            state_max_level, \r\n",
                "            federal_max_level, \r\n",
                "            COALESCE(federal_max_level, state_max_level + 1) AS federal_max_coalesced\r\n",
                "    FROM    dbo.state_regulations\r\n",
                "    WHERE   COALESCE(federal_max_level, state_max_level + 1) > state_max_level\r\n",
                ")\r\n",
                "SELECT COUNT(contaminant) AS Number_of_Stricter_State_Maximums\r\n",
                "FROM Stricter_State_Maximums"
            ],
            "metadata": {
                "azdata_cell_guid": "a7ce693c-51b4-46b1-97b8-f509e99f2dc1",
                "language": "sql"
            },
            "outputs": [],
            "execution_count": null
        },
        {
            "cell_type": "markdown",
            "source": [
                "I promise, I did not intentionally set up the data such that 42 is the answer, but it should be, right? \n",
                "\n",
                "That was a simple example, where the use of a CTE may be a little clearer, but it’s not so different that it requires an entire new way of doing things… So let’s make this more complicated!\n",
                "\n",
                "### **_Show the Number of Contaminants that have stricter state standards, stricter federal standards, and identical standards for state and federal:_**\n",
                "\n",
                "Since we’re still in the WITH mind-frame, let’s start with that organization."
            ],
            "metadata": {
                "azdata_cell_guid": "1f3b0054-70ff-44e2-8753-2002b3ddb0a7"
            },
            "attachments": {}
        },
        {
            "cell_type": "code",
            "source": [
                "WITH \r\n",
                "Stricter_State_Maximums AS (\r\n",
                "    SELECT  contaminant, \r\n",
                "            state_max_level, \r\n",
                "            federal_max_level, \r\n",
                "            COALESCE(federal_max_level, state_max_level + 1) AS federal_max_coalesced\r\n",
                "    FROM    dbo.state_regulations\r\n",
                "    WHERE   COALESCE(federal_max_level, state_max_level + 1) > state_max_level\r\n",
                "), \r\n",
                "Stricter_Federal_Maximums AS (\r\n",
                "    SELECT  contaminant, \r\n",
                "            state_max_level, \r\n",
                "            federal_max_level, \r\n",
                "            COALESCE(federal_max_level, state_max_level + 1) AS federal_max_coalesced\r\n",
                "    FROM    dbo.state_regulations\r\n",
                "    WHERE   COALESCE(federal_max_level, state_max_level + 1) < state_max_level\r\n",
                "), \r\n",
                "Same_State_Federal_Maximums AS (\r\n",
                "    SELECT  contaminant, \r\n",
                "            state_max_level, \r\n",
                "            federal_max_level, \r\n",
                "            COALESCE(federal_max_level, state_max_level + 1) AS federal_max_coalesced\r\n",
                "    FROM    dbo.state_regulations\r\n",
                "    WHERE   COALESCE(federal_max_level, state_max_level + 1) = state_max_level\r\n",
                ")\r\n",
                "SELECT COUNT(contaminant) AS Number_of_Levels, 'State' AS Stricter_Restriction_Levels\r\n",
                "FROM Stricter_State_Maximums\r\n",
                "UNION ALL \r\n",
                "SELECT COUNT(contaminant), 'Federal' \r\n",
                "FROM Stricter_Federal_Maximums\r\n",
                "UNION ALL \r\n",
                "SELECT COUNT(contaminant), 'Equal'\r\n",
                "FROM Same_State_Federal_Maximums;"
            ],
            "metadata": {
                "azdata_cell_guid": "f353c18f-43d5-4f03-9f4a-01201ec9f53f",
                "language": "sql"
            },
            "outputs": [
                {
                    "output_type": "display_data",
                    "data": {
                        "text/html": "(3 rows affected)"
                    },
                    "metadata": {}
                },
                {
                    "output_type": "display_data",
                    "data": {
                        "text/html": "Total execution time: 00:00:00.007"
                    },
                    "metadata": {}
                },
                {
                    "output_type": "execute_result",
                    "metadata": {},
                    "execution_count": 7,
                    "data": {
                        "application/vnd.dataresource+json": {
                            "schema": {
                                "fields": [
                                    {
                                        "name": "Number_of_Levels"
                                    },
                                    {
                                        "name": "Stricter_Restriction_Levels"
                                    }
                                ]
                            },
                            "data": [
                                {
                                    "0": "42",
                                    "1": "State"
                                },
                                {
                                    "0": "0",
                                    "1": "Federal"
                                },
                                {
                                    "0": "49",
                                    "1": "Equal"
                                }
                            ]
                        },
                        "text/html": [
                            "<table>",
                            "<tr><th>Number_of_Levels</th><th>Stricter_Restriction_Levels</th></tr>",
                            "<tr><td>42</td><td>State</td></tr>",
                            "<tr><td>0</td><td>Federal</td></tr>",
                            "<tr><td>49</td><td>Equal</td></tr>",
                            "</table>"
                        ]
                    }
                }
            ],
            "execution_count": 7
        },
        {
            "cell_type": "markdown",
            "source": [
                "To write this, I used the previous query, only modifying the logical operator ( \\< , \\> , = ). I used UNION ALL to append the results to the same column and created a new column for the descriptive details. Alternatively, this query can be written to keep all results in a single row:"
            ],
            "metadata": {
                "azdata_cell_guid": "9c9a48a6-69da-4d39-9872-553083f614f6"
            },
            "attachments": {}
        },
        {
            "cell_type": "code",
            "source": [
                "WITH \r\n",
                "Stricter_State_Maximums AS (\r\n",
                "    SELECT  contaminant, \r\n",
                "            state_max_level, \r\n",
                "            federal_max_level, \r\n",
                "            COALESCE(federal_max_level, state_max_level + 1) AS federal_max_coalesced\r\n",
                "    FROM    dbo.state_regulations\r\n",
                "    WHERE   COALESCE(federal_max_level, state_max_level + 1) > state_max_level\r\n",
                "), \r\n",
                "Stricter_Federal_Maximums AS (\r\n",
                "    SELECT  contaminant, \r\n",
                "            state_max_level, \r\n",
                "            federal_max_level, \r\n",
                "            COALESCE(federal_max_level, state_max_level + 1) AS federal_max_coalesced\r\n",
                "    FROM    dbo.state_regulations\r\n",
                "    WHERE   COALESCE(federal_max_level, state_max_level + 1) < state_max_level\r\n",
                "), \r\n",
                "Same_State_Federal_Maximums AS (\r\n",
                "    SELECT  contaminant, \r\n",
                "            state_max_level, \r\n",
                "            federal_max_level, \r\n",
                "            COALESCE(federal_max_level, state_max_level + 1) AS federal_max_coalesced\r\n",
                "    FROM    dbo.state_regulations\r\n",
                "    WHERE   COALESCE(federal_max_level, state_max_level + 1) = state_max_level\r\n",
                ")\r\n",
                "SELECT  COUNT(SSM.contaminant) AS Number_of_Stricter_State_Standards, \r\n",
                "        COUNT(SFM.contaminant) AS Number_of_Stricter_Federal_Standards, \r\n",
                "        COUNT(SM.contaminant) AS Number_of_Equal_Standards\r\n",
                "FROM    dbo.state_regulations AS SR\r\n",
                "LEFT JOIN Stricter_State_Maximums AS SSM\r\n",
                "    ON SR.contaminant = SSM.contaminant\r\n",
                "LEFT JOIN Stricter_Federal_Maximums AS SFM\r\n",
                "    ON SR.contaminant = SFM.contaminant\r\n",
                "LEFT JOIN Same_State_Federal_Maximums AS SM\r\n",
                "    ON SR.contaminant = SM.contaminant"
            ],
            "metadata": {
                "azdata_cell_guid": "e20d6db5-56b3-42b0-91e9-4350a7cbdb24",
                "language": "sql"
            },
            "outputs": [
                {
                    "output_type": "display_data",
                    "data": {
                        "text/html": "Warning: Null value is eliminated by an aggregate or other SET operation."
                    },
                    "metadata": {}
                },
                {
                    "output_type": "display_data",
                    "data": {
                        "text/html": "(1 row affected)"
                    },
                    "metadata": {}
                },
                {
                    "output_type": "display_data",
                    "data": {
                        "text/html": "Total execution time: 00:00:00.027"
                    },
                    "metadata": {}
                },
                {
                    "output_type": "execute_result",
                    "metadata": {},
                    "execution_count": 8,
                    "data": {
                        "application/vnd.dataresource+json": {
                            "schema": {
                                "fields": [
                                    {
                                        "name": "Number_of_Stricter_State_Standards"
                                    },
                                    {
                                        "name": "Number_of_Stricter_Federal_Standards"
                                    },
                                    {
                                        "name": "Number_of_Equal_Standards"
                                    }
                                ]
                            },
                            "data": [
                                {
                                    "0": "42",
                                    "1": "0",
                                    "2": "49"
                                }
                            ]
                        },
                        "text/html": [
                            "<table>",
                            "<tr><th>Number_of_Stricter_State_Standards</th><th>Number_of_Stricter_Federal_Standards</th><th>Number_of_Equal_Standards</th></tr>",
                            "<tr><td>42</td><td>0</td><td>49</td></tr>",
                            "</table>"
                        ]
                    }
                }
            ],
            "execution_count": 8
        },
        {
            "cell_type": "markdown",
            "source": [
                "In this case, it did require joins, which can often be computationally costly. The following two queries are the corresponding subquery versions."
            ],
            "metadata": {
                "azdata_cell_guid": "6fccf69e-d0c6-400e-ad61-c4230dbe11fa"
            },
            "attachments": {}
        },
        {
            "cell_type": "code",
            "source": [
                "SELECT COUNT(contaminant) AS Count, 'State' AS Stricter_Restriction_Levels\r\n",
                "FROM (\r\n",
                "    SELECT  contaminant, \r\n",
                "            state_max_level,  \r\n",
                "            COALESCE(federal_max_level, state_max_level + 1) AS federal_max_coalesced\r\n",
                "    FROM    dbo.state_regulations\r\n",
                "    WHERE   COALESCE(federal_max_level, state_max_level + 1) > state_max_level\r\n",
                ") AS Stricter_State_Maximums\r\n",
                "UNION ALL \r\n",
                "SELECT COUNT(contaminant), 'Federal'\r\n",
                "FROM (\r\n",
                "    SELECT  contaminant, \r\n",
                "            state_max_level, \r\n",
                "            COALESCE(federal_max_level, state_max_level + 1) AS federal_max_coalesced\r\n",
                "    FROM    dbo.state_regulations\r\n",
                "    WHERE   COALESCE(federal_max_level, state_max_level + 1) < state_max_level\r\n",
                ") AS Stricter_Federal_Maximums\r\n",
                "UNION ALL \r\n",
                "SELECT COUNT(contaminant), 'Equal'\r\n",
                "FROM (\r\n",
                "    SELECT  contaminant, \r\n",
                "            state_max_level,  \r\n",
                "            COALESCE(federal_max_level, state_max_level + 1) AS federal_max_coalesced\r\n",
                "    FROM    dbo.state_regulations\r\n",
                "    WHERE   COALESCE(federal_max_level, state_max_level + 1) = state_max_level\r\n",
                ") AS Same_State_Federal_Maximums;"
            ],
            "metadata": {
                "azdata_cell_guid": "9856ecd9-e7f3-4f13-9c20-437da94665d3",
                "language": "sql"
            },
            "outputs": [
                {
                    "output_type": "display_data",
                    "data": {
                        "text/html": "(3 rows affected)"
                    },
                    "metadata": {}
                },
                {
                    "output_type": "display_data",
                    "data": {
                        "text/html": "Total execution time: 00:00:00.004"
                    },
                    "metadata": {}
                },
                {
                    "output_type": "execute_result",
                    "metadata": {},
                    "execution_count": 9,
                    "data": {
                        "application/vnd.dataresource+json": {
                            "schema": {
                                "fields": [
                                    {
                                        "name": "Count"
                                    },
                                    {
                                        "name": "Stricter_Restriction_Levels"
                                    }
                                ]
                            },
                            "data": [
                                {
                                    "0": "42",
                                    "1": "State"
                                },
                                {
                                    "0": "0",
                                    "1": "Federal"
                                },
                                {
                                    "0": "49",
                                    "1": "Equal"
                                }
                            ]
                        },
                        "text/html": [
                            "<table>",
                            "<tr><th>Count</th><th>Stricter_Restriction_Levels</th></tr>",
                            "<tr><td>42</td><td>State</td></tr>",
                            "<tr><td>0</td><td>Federal</td></tr>",
                            "<tr><td>49</td><td>Equal</td></tr>",
                            "</table>"
                        ]
                    }
                }
            ],
            "execution_count": 9
        },
        {
            "cell_type": "code",
            "source": [
                "SELECT  COUNT(Stricter_State_Maximums.contaminant) AS Number_of_Stricter_State_Maximums,\r\n",
                "        COUNT(Stricter_Federal_Maximums.contaminant) AS Number_of_Stricter_Federal_Maximums,\r\n",
                "        COUNT(Same_State_Federal_Maximums.contaminant) AS Number_of_Same_State_Federal_Maximums\r\n",
                "FROM dbo.state_regulations AS SR\r\n",
                "    LEFT JOIN\r\n",
                "    (\r\n",
                "        SELECT  contaminant, \r\n",
                "                state_max_level, \r\n",
                "                COALESCE(federal_max_level, state_max_level + 1) AS federal_max_coalesced\r\n",
                "        FROM    dbo.state_regulations\r\n",
                "        WHERE   COALESCE(federal_max_level, state_max_level + 1) > state_max_level\r\n",
                "    ) AS Stricter_State_Maximums\r\n",
                "    ON SR.contaminant = Stricter_State_Maximums.contaminant\r\n",
                "    LEFT JOIN\r\n",
                "    (\r\n",
                "        SELECT  contaminant, \r\n",
                "                state_max_level, \r\n",
                "                COALESCE(federal_max_level, state_max_level + 1) AS federal_max_coalesced\r\n",
                "        FROM    dbo.state_regulations\r\n",
                "        WHERE   COALESCE(federal_max_level, state_max_level + 1) = state_max_level\r\n",
                "    ) AS Same_State_Federal_Maximums\r\n",
                "        ON SR.contaminant = Same_State_Federal_Maximums.contaminant\r\n",
                "    LEFT JOIN\r\n",
                "    (\r\n",
                "        SELECT  contaminant, \r\n",
                "                state_max_level, \r\n",
                "                COALESCE(federal_max_level, state_max_level + 1) AS federal_max_coalesced\r\n",
                "        FROM    dbo.state_regulations\r\n",
                "        WHERE   COALESCE(federal_max_level, state_max_level + 1) < state_max_level\r\n",
                "    ) AS Stricter_Federal_Maximums\r\n",
                "        ON SR.contaminant = Stricter_State_Maximums.contaminant"
            ],
            "metadata": {
                "azdata_cell_guid": "a0842869-39cd-4bc3-a1a2-943fa559f362",
                "language": "sql"
            },
            "outputs": [
                {
                    "output_type": "display_data",
                    "data": {
                        "text/html": "Warning: Null value is eliminated by an aggregate or other SET operation."
                    },
                    "metadata": {}
                },
                {
                    "output_type": "display_data",
                    "data": {
                        "text/html": "(1 row affected)"
                    },
                    "metadata": {}
                },
                {
                    "output_type": "display_data",
                    "data": {
                        "text/html": "Total execution time: 00:00:00.007"
                    },
                    "metadata": {}
                },
                {
                    "output_type": "execute_result",
                    "metadata": {},
                    "execution_count": 10,
                    "data": {
                        "application/vnd.dataresource+json": {
                            "schema": {
                                "fields": [
                                    {
                                        "name": "Number_of_Stricter_State_Maximums"
                                    },
                                    {
                                        "name": "Number_of_Stricter_Federal_Maximums"
                                    },
                                    {
                                        "name": "Number_of_Same_State_Federal_Maximums"
                                    }
                                ]
                            },
                            "data": [
                                {
                                    "0": "42",
                                    "1": "0",
                                    "2": "49"
                                }
                            ]
                        },
                        "text/html": [
                            "<table>",
                            "<tr><th>Number_of_Stricter_State_Maximums</th><th>Number_of_Stricter_Federal_Maximums</th><th>Number_of_Same_State_Federal_Maximums</th></tr>",
                            "<tr><td>42</td><td>0</td><td>49</td></tr>",
                            "</table>"
                        ]
                    }
                }
            ],
            "execution_count": 10
        },
        {
            "cell_type": "markdown",
            "source": [
                "### **Nested Subqueries or WITH?**\n",
                "\n",
                "The three remaining questions I would like to ask are as follows: \n",
                "\n",
                "1. **What percentage of federal restrictions are less strict (higher) than state restrictions?**\n",
                "2. **What percentage of state restrictions are stricter (lower) than set federal restrictions?**\n",
                "3. **What percentage of all contaminants have a stricter state maximum than federal, assuming a NULL value means it is a known contaminant that is unregulated at a federal level?**\n",
                "\n",
                "While these three questions are seemingly asking the same question, each of them draws from a different subset of the provided information. The first question requires that all data drawn from have a federal standard. The second question is specifically asking for the values where there is a set federal standard as well. Only the third includes the standards set by the state where the federal standard is considered less strict, as it doesn’t exist. \n",
                "\n",
                "Let’s start with the subquery this time. The question I pose now: Where does this query actually start?"
            ],
            "metadata": {
                "azdata_cell_guid": "f571f855-4ba0-49fc-bf83-871214e4cd79"
            },
            "attachments": {}
        },
        {
            "cell_type": "code",
            "source": [
                "SELECT  CAST(100*Laxer_Federal_Maximum_Count/ (SELECT COUNT(*) FROM dbo.state_regulations WHERE federal_max_level IS NOT NULL) AS DECIMAL(5,1)) AS Question_1,\r\n",
                "        CAST(100*Stricter_State_Maximum_Count/ (SELECT COUNT(*) FROM (\r\n",
                "            SELECT  contaminant, \r\n",
                "                    state_max_level, \r\n",
                "                    federal_max_level \r\n",
                "            FROM dbo.state_regulations \r\n",
                "            ) AS SSM) AS DECIMAL(5,1)) AS Question_2,\r\n",
                "        CAST(100*Stricter_State_Coalesced_Count/ (SELECT COUNT(*) FROM (\r\n",
                "            SELECT  contaminant, \r\n",
                "                    state_max_level, \r\n",
                "                    COALESCE(federal_max_level, state_max_level + 1) AS federal_not_null \r\n",
                "            FROM dbo.state_regulations) AS UFC \r\n",
                "            WHERE federal_not_null > state_max_level) AS DECIMAL(5,1)) AS Question_3\r\n",
                "FROM (\r\n",
                "    SELECT  COUNT(LFM.contaminant) AS Laxer_Federal_Maximum_Count, \r\n",
                "            COUNT(FM.contaminant) AS Federal_Maximum_Count, \r\n",
                "            COUNT(SSM.contaminant) AS Stricter_State_Maximum_Count, \r\n",
                "            COUNT(SSC.contaminant) AS Stricter_State_Coalesced_Count,\r\n",
                "            COUNT(UFC.contaminant) AS Unregulated_Federal_Coalesced_Count\r\n",
                "    FROM (\r\n",
                "        SELECT  contaminant, \r\n",
                "                state_max_level, \r\n",
                "                federal_max_level \r\n",
                "        FROM dbo.state_regulations \r\n",
                "        WHERE federal_max_level IS NOT NULL) AS FM\r\n",
                "        LEFT JOIN (\r\n",
                "            SELECT  contaminant, \r\n",
                "                    state_max_level, \r\n",
                "                    federal_max_level \r\n",
                "            FROM dbo.state_regulations \r\n",
                "            WHERE federal_max_level > state_max_level) AS SSM \r\n",
                "        ON FM.contaminant = SSM.contaminant\r\n",
                "        LEFT JOIN (\r\n",
                "            SELECT  contaminant, \r\n",
                "                    state_max_level, \r\n",
                "                    COALESCE(federal_max_level, state_max_level + 1) AS federal_not_null \r\n",
                "            FROM dbo.state_regulations) AS UFC \r\n",
                "        ON FM.contaminant = UFC.contaminant\r\n",
                "        LEFT JOIN (\r\n",
                "            SELECT  contaminant, \r\n",
                "                    state_max_level, \r\n",
                "                    federal_max_level \r\n",
                "            FROM dbo.state_regulations \r\n",
                "            WHERE federal_max_level > state_max_level) AS SSC \r\n",
                "        ON UFC.contaminant = SSC.contaminant\r\n",
                "        LEFT JOIN (\r\n",
                "            SELECT  contaminant, \r\n",
                "                    state_max_level, \r\n",
                "                    federal_max_level \r\n",
                "            FROM (\r\n",
                "                SELECT  contaminant, \r\n",
                "                        state_max_level, \r\n",
                "                        federal_max_level \r\n",
                "                FROM dbo.state_regulations \r\n",
                "                WHERE federal_max_level IS NOT NULL) AS FM \r\n",
                "            WHERE federal_max_level > state_max_level) AS LFM \r\n",
                "        ON UFC.contaminant = LFM.contaminant\r\n",
                ") AS All_Counts;"
            ],
            "metadata": {
                "azdata_cell_guid": "66b55645-1c24-44ef-bcd8-4da264cebb81",
                "language": "sql"
            },
            "outputs": [],
            "execution_count": null
        },
        {
            "cell_type": "markdown",
            "source": [
                "**Hopefully using the WITH clause can help bring some clarity!**"
            ],
            "metadata": {
                "azdata_cell_guid": "2fb942ea-cde1-4645-ad3b-5caab5e2a73e"
            },
            "attachments": {}
        },
        {
            "cell_type": "code",
            "source": [
                "WITH \r\n",
                "Unregulated_Federal_Coalesced AS (\r\n",
                "    SELECT  contaminant, \r\n",
                "            state_max_level,\r\n",
                "            COALESCE(federal_max_level, state_max_level + 1) AS federal_not_null\r\n",
                "    FROM    dbo.state_regulations\r\n",
                "), \r\n",
                "Stricter_State_Coalesced AS (\r\n",
                "    SELECT  contaminant, \r\n",
                "            state_max_level,\r\n",
                "            federal_not_null\r\n",
                "    FROM    Unregulated_Federal_Coalesced\r\n",
                "    WHERE   federal_not_null > state_max_level\r\n",
                "),\r\n",
                "Stricter_State_Maximums AS (\r\n",
                "    SELECT  contaminant, \r\n",
                "            state_max_level, \r\n",
                "            federal_max_level\r\n",
                "    FROM dbo.state_regulations\r\n",
                "    WHERE federal_max_level > state_max_level\r\n",
                "),\r\n",
                "Federal_Maximums AS (\r\n",
                "    SELECT  contaminant,\r\n",
                "            state_max_level, \r\n",
                "            federal_max_level    \r\n",
                "    FROM    dbo.state_regulations\r\n",
                "    WHERE   federal_max_level IS NOT NULL\r\n",
                "),\r\n",
                "Laxer_Federal_Maximums AS (\r\n",
                "    SELECT  contaminant, \r\n",
                "            state_max_level, \r\n",
                "            federal_max_level\r\n",
                "    FROM    Federal_Maximums\r\n",
                "    WHERE   federal_max_level > state_max_level\r\n",
                "), \r\n",
                "All_Counts AS (\r\n",
                "    SELECT  COUNT(LFM.contaminant) AS Laxer_Federal_Maximum_Count, \r\n",
                "            COUNT(FM.contaminant) AS Federal_Maximum_Count, \r\n",
                "            COUNT(SSM.contaminant) AS Stricter_State_Maximum_Count, \r\n",
                "            COUNT(SSC.contaminant) AS Stricter_State_Coalesced_Count,\r\n",
                "            COUNT(UFC.contaminant) AS Unregulated_Federal_Coalesced_Count\r\n",
                "    FROM    Unregulated_Federal_Coalesced AS UFC\r\n",
                "        LEFT JOIN\r\n",
                "            Stricter_State_Coalesced AS SSC\r\n",
                "            ON UFC.contaminant = SSC.contaminant\r\n",
                "        LEFT JOIN\r\n",
                "            Stricter_State_Maximums AS SSM\r\n",
                "            ON UFC.contaminant = SSM.contaminant\r\n",
                "        LEFT JOIN \r\n",
                "            Federal_Maximums AS FM\r\n",
                "            ON UFC.contaminant = FM.contaminant\r\n",
                "        LEFT JOIN \r\n",
                "            Laxer_Federal_Maximums AS LFM\r\n",
                "            ON UFC.contaminant = LFM.contaminant\r\n",
                ")\r\n",
                "SELECT  CAST(100*Laxer_Federal_Maximum_Count/ (SELECT Federal_Maximum_Count FROM All_Counts) AS DECIMAL(5,1)) AS Question_1, \r\n",
                "        CAST(100*Stricter_State_Maximum_Count/ (SELECT Unregulated_Federal_Coalesced_Count FROM All_Counts) AS DECIMAL(5,1)) AS Question_2,\r\n",
                "        CAST(100*Stricter_State_Coalesced_Count/ (SELECT Unregulated_Federal_Coalesced_Count FROM All_Counts) AS DECIMAL(5,1)) AS Question_3\r\n",
                "FROM    All_Counts"
            ],
            "metadata": {
                "azdata_cell_guid": "4c3e9c16-cb72-4645-8d4c-e4f0eae25f59",
                "language": "sql"
            },
            "outputs": [
                {
                    "output_type": "display_data",
                    "data": {
                        "text/html": "Warning: Null value is eliminated by an aggregate or other SET operation."
                    },
                    "metadata": {}
                },
                {
                    "output_type": "display_data",
                    "data": {
                        "text/html": "(1 row affected)"
                    },
                    "metadata": {}
                },
                {
                    "output_type": "display_data",
                    "data": {
                        "text/html": "Total execution time: 00:00:00.027"
                    },
                    "metadata": {}
                },
                {
                    "output_type": "execute_result",
                    "metadata": {},
                    "execution_count": 11,
                    "data": {
                        "application/vnd.dataresource+json": {
                            "schema": {
                                "fields": [
                                    {
                                        "name": "Question_1"
                                    },
                                    {
                                        "name": "Question_2"
                                    },
                                    {
                                        "name": "Question_3"
                                    }
                                ]
                            },
                            "data": [
                                {
                                    "0": "35.0",
                                    "1": "29.0",
                                    "2": "46.0"
                                }
                            ]
                        },
                        "text/html": [
                            "<table>",
                            "<tr><th>Question_1</th><th>Question_2</th><th>Question_3</th></tr>",
                            "<tr><td>35.0</td><td>29.0</td><td>46.0</td></tr>",
                            "</table>"
                        ]
                    }
                }
            ],
            "execution_count": 11
        },
        {
            "cell_type": "markdown",
            "source": [
                "Starting at WITH, we then look at the unregulated\\_federal\\_coalesced expression that returns the contaminants, state maxes, and coalesced federal maxes, pulling those data from the state\\_regulations table. The stricter\\_state\\_coalesced is pulling from the unregulated\\_federal\\_coalesced query, but further filters the data using the WHERE clause. This here is an example of a nested subquery that is organized linearly in an easy-to-comprehend manner. \n",
                "\n",
                "The final common table expression before the parent SELECT statement is the All\\_Counts query, which joins each of the common table expression outputs to calculate the values. This reduces the need for nested subqueries in the parent function, which still requires\\* subqueries to perform the percentage calculations. \n",
                "\n",
                "We final get our percentages for questions 1, 2, and 3:  35%, 29% and 46%\n",
                "\n",
                "**\\*\\*\\*** \n",
                "\n",
                "Does this final query really _require_ a subquery? No.\n",
                "\n",
                "And hopefully you’re thinking, ‘surely there must be a better way to perform calculations without subqueries’. This is indeed the case, but as this tutorial is only introducing the concept of the WITH clause / common table expressions, I did not want to introduce additional advanced SQL concepts. \n",
                "\n",
                "### **\\*\\*\\*** \n",
                "\n",
                "### **In Conclusion**\n",
                "\n",
                "I hope it’s clear that from a readability standpoint, the code using Common Table Expressions (WITH) is much easier to follow and comprehend.\n",
                "\n",
                "I hope that this was informative and easy to digest! My goal is to help others who have completed SQL coursework start to progress into more advanced SQL tactics to write more organized and better performing queries."
            ],
            "metadata": {
                "azdata_cell_guid": "2fd2b718-9123-4077-9990-2ac82a45b076"
            },
            "attachments": {}
        }
    ]
}